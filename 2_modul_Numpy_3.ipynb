{
  "nbformat": 4,
  "nbformat_minor": 0,
  "metadata": {
    "colab": {
      "provenance": [],
      "authorship_tag": "ABX9TyNDjKEanaipfXTpPCTRCNmx",
      "include_colab_link": true
    },
    "kernelspec": {
      "name": "python3",
      "display_name": "Python 3"
    },
    "language_info": {
      "name": "python"
    }
  },
  "cells": [
    {
      "cell_type": "markdown",
      "metadata": {
        "id": "view-in-github",
        "colab_type": "text"
      },
      "source": [
        "<a href=\"https://colab.research.google.com/github/asilbek-data-scientist/1_Modul/blob/main/2_modul_Numpy_3.ipynb\" target=\"_parent\"><img src=\"https://colab.research.google.com/assets/colab-badge.svg\" alt=\"Open In Colab\"/></a>"
      ]
    },
    {
      "cell_type": "markdown",
      "source": [
        "Universal funksiyalar\n",
        "\n",
        "    sqrt, square, exp, log, modf, sign, isnan funksiyalarini ko'rib chiqamiz."
      ],
      "metadata": {
        "id": "3FtR3luO_HUC"
      }
    },
    {
      "cell_type": "code",
      "execution_count": 2,
      "metadata": {
        "id": "Yza66ulX9-m6"
      },
      "outputs": [],
      "source": [
        "import numpy as np"
      ]
    },
    {
      "cell_type": "code",
      "source": [
        "arr = np.arange(10)"
      ],
      "metadata": {
        "id": "fgydMfoQ_CY7"
      },
      "execution_count": 3,
      "outputs": []
    },
    {
      "cell_type": "code",
      "source": [
        "np.sqrt(arr)"
      ],
      "metadata": {
        "colab": {
          "base_uri": "https://localhost:8080/"
        },
        "id": "p4HsSlrz_GCK",
        "outputId": "57fe02d1-9993-447e-ad71-4172de1fe81f"
      },
      "execution_count": 4,
      "outputs": [
        {
          "output_type": "execute_result",
          "data": {
            "text/plain": [
              "array([0.        , 1.        , 1.41421356, 1.73205081, 2.        ,\n",
              "       2.23606798, 2.44948974, 2.64575131, 2.82842712, 3.        ])"
            ]
          },
          "metadata": {},
          "execution_count": 4
        }
      ]
    },
    {
      "cell_type": "code",
      "source": [
        "np.square(arr)"
      ],
      "metadata": {
        "colab": {
          "base_uri": "https://localhost:8080/"
        },
        "id": "4cT4zRT6_sNL",
        "outputId": "78e80763-527d-4ca9-87b2-f6fb2af7409f"
      },
      "execution_count": 5,
      "outputs": [
        {
          "output_type": "execute_result",
          "data": {
            "text/plain": [
              "array([ 0,  1,  4,  9, 16, 25, 36, 49, 64, 81])"
            ]
          },
          "metadata": {},
          "execution_count": 5
        }
      ]
    },
    {
      "cell_type": "code",
      "source": [
        "np.exp(arr)"
      ],
      "metadata": {
        "colab": {
          "base_uri": "https://localhost:8080/"
        },
        "id": "f_Kfr3q7Hpbl",
        "outputId": "1748a018-0621-4dbe-eaed-cc70321d8828"
      },
      "execution_count": 6,
      "outputs": [
        {
          "output_type": "execute_result",
          "data": {
            "text/plain": [
              "array([1.00000000e+00, 2.71828183e+00, 7.38905610e+00, 2.00855369e+01,\n",
              "       5.45981500e+01, 1.48413159e+02, 4.03428793e+02, 1.09663316e+03,\n",
              "       2.98095799e+03, 8.10308393e+03])"
            ]
          },
          "metadata": {},
          "execution_count": 6
        }
      ]
    },
    {
      "cell_type": "code",
      "source": [
        "np.log(arr[1:])"
      ],
      "metadata": {
        "colab": {
          "base_uri": "https://localhost:8080/"
        },
        "id": "_IjmF4xWHunl",
        "outputId": "77a5723d-7b8d-4648-d7e4-31717658de08"
      },
      "execution_count": 8,
      "outputs": [
        {
          "output_type": "execute_result",
          "data": {
            "text/plain": [
              "array([0.        , 0.69314718, 1.09861229, 1.38629436, 1.60943791,\n",
              "       1.79175947, 1.94591015, 2.07944154, 2.19722458])"
            ]
          },
          "metadata": {},
          "execution_count": 8
        }
      ]
    },
    {
      "cell_type": "code",
      "source": [
        "arr1 = np.random.randn(6) # 6 ta elementdan iborat taxminiy qiymatlarga ega massiv\n",
        "arr1"
      ],
      "metadata": {
        "colab": {
          "base_uri": "https://localhost:8080/"
        },
        "id": "KCMnOeuDH9tN",
        "outputId": "2cda345c-5b32-4ad2-e24d-6d12260302f2"
      },
      "execution_count": 11,
      "outputs": [
        {
          "output_type": "execute_result",
          "data": {
            "text/plain": [
              "array([-2.10232228, -0.6094089 , -1.37465471, -0.40305571, -0.0365181 ,\n",
              "       -0.10970545])"
            ]
          },
          "metadata": {},
          "execution_count": 11
        }
      ]
    },
    {
      "cell_type": "code",
      "source": [
        "qoldiq, butun = np.modf(arr1) # arr1 ning elementlarini qoldiq va butun qismlarini ikkita massivga ajratib beradi."
      ],
      "metadata": {
        "id": "RtEdPKQLIG49"
      },
      "execution_count": 13,
      "outputs": []
    },
    {
      "cell_type": "code",
      "source": [
        "print(qoldiq)\n",
        "print(butun)"
      ],
      "metadata": {
        "colab": {
          "base_uri": "https://localhost:8080/"
        },
        "id": "zDmSru-RQqql",
        "outputId": "e59a95d6-ccd4-47d7-e23d-0b536a1dc6a6"
      },
      "execution_count": 14,
      "outputs": [
        {
          "output_type": "stream",
          "name": "stdout",
          "text": [
            "[-0.10232228 -0.6094089  -0.37465471 -0.40305571 -0.0365181  -0.10970545]\n",
            "[-2. -0. -1. -0. -0. -0.]\n"
          ]
        }
      ]
    },
    {
      "cell_type": "code",
      "source": [
        "np.sign(arr1) # arr1 massivning elementlari ishoralarini \"-1\" va \"1\" larni qaytaradi."
      ],
      "metadata": {
        "colab": {
          "base_uri": "https://localhost:8080/"
        },
        "id": "nnnlMSXcRdFE",
        "outputId": "4ca7cf33-2cc2-47ea-91ba-2e0d8337b87f"
      },
      "execution_count": 17,
      "outputs": [
        {
          "output_type": "execute_result",
          "data": {
            "text/plain": [
              "array([-1., -1., -1., -1., -1., -1.])"
            ]
          },
          "metadata": {},
          "execution_count": 17
        }
      ]
    },
    {
      "cell_type": "markdown",
      "source": [
        "isnan massivning elementlarida NaN ma'lumoti bo'lsa True qaytaradi va aksincha esa  False qaytaradi."
      ],
      "metadata": {
        "id": "6f057b6TSg16"
      }
    },
    {
      "cell_type": "code",
      "source": [
        "arr1"
      ],
      "metadata": {
        "colab": {
          "base_uri": "https://localhost:8080/"
        },
        "id": "YfPQj3XvSG9c",
        "outputId": "6eff604b-a214-4230-f2b0-e270665f576f"
      },
      "execution_count": 18,
      "outputs": [
        {
          "output_type": "execute_result",
          "data": {
            "text/plain": [
              "array([-2.10232228, -0.6094089 , -1.37465471, -0.40305571, -0.0365181 ,\n",
              "       -0.10970545])"
            ]
          },
          "metadata": {},
          "execution_count": 18
        }
      ]
    },
    {
      "cell_type": "code",
      "source": [
        "np.isnan(arr1)"
      ],
      "metadata": {
        "colab": {
          "base_uri": "https://localhost:8080/"
        },
        "id": "DvWRnTBXS2P8",
        "outputId": "1ef1ef57-0a59-43c3-bdf9-845e292d3481"
      },
      "execution_count": 19,
      "outputs": [
        {
          "output_type": "execute_result",
          "data": {
            "text/plain": [
              "array([False, False, False, False, False, False])"
            ]
          },
          "metadata": {},
          "execution_count": 19
        }
      ]
    },
    {
      "cell_type": "code",
      "source": [
        "arr1[0] = np.NaN"
      ],
      "metadata": {
        "id": "u-85IyQiS4zE"
      },
      "execution_count": 21,
      "outputs": []
    },
    {
      "cell_type": "code",
      "source": [
        "np.isnan(arr1)"
      ],
      "metadata": {
        "colab": {
          "base_uri": "https://localhost:8080/"
        },
        "id": "RlUrFcS7TIF7",
        "outputId": "860c2acd-b9c1-4376-c159-aeb931135c25"
      },
      "execution_count": 22,
      "outputs": [
        {
          "output_type": "execute_result",
          "data": {
            "text/plain": [
              "array([ True, False, False, False, False, False])"
            ]
          },
          "metadata": {},
          "execution_count": 22
        }
      ]
    },
    {
      "cell_type": "markdown",
      "source": [
        "Binary funksiyalari (ikkita argument qabul qiluvchi funksiya)\n",
        "\n",
        "  add, multiply, maximum funksiyalarini ko'rib chiqamiz."
      ],
      "metadata": {
        "id": "oGe9ycGBTjek"
      }
    },
    {
      "cell_type": "code",
      "source": [
        "arr2 = np.random.randn(6)\n",
        "arr2"
      ],
      "metadata": {
        "colab": {
          "base_uri": "https://localhost:8080/"
        },
        "id": "iVcu7Mg7TOL8",
        "outputId": "bdf5d384-64b2-4a22-95cc-19722c130f8b"
      },
      "execution_count": 23,
      "outputs": [
        {
          "output_type": "execute_result",
          "data": {
            "text/plain": [
              "array([-1.36901753,  0.50403759,  1.80717535, -0.57055387, -1.5993494 ,\n",
              "        1.00066155])"
            ]
          },
          "metadata": {},
          "execution_count": 23
        }
      ]
    },
    {
      "cell_type": "code",
      "source": [
        "arr3 = np.random.randn(6)\n",
        "arr3"
      ],
      "metadata": {
        "colab": {
          "base_uri": "https://localhost:8080/"
        },
        "id": "ARkb0PGRT94M",
        "outputId": "d1207d3e-bf0d-47c9-c1a9-43ec80ab2ec0"
      },
      "execution_count": 32,
      "outputs": [
        {
          "output_type": "execute_result",
          "data": {
            "text/plain": [
              "array([0.66437012, 0.4722141 , 1.81774735, 1.00232113, 0.3240033 ,\n",
              "       0.1116997 ])"
            ]
          },
          "metadata": {},
          "execution_count": 32
        }
      ]
    },
    {
      "cell_type": "code",
      "source": [
        "np.add(arr2, arr3) # arr2 va arr3 ning elementlarini mos ravishda qo'shib beradi."
      ],
      "metadata": {
        "colab": {
          "base_uri": "https://localhost:8080/"
        },
        "id": "rCj-reqYUE_c",
        "outputId": "79cb1a0b-f9e0-4fb6-b9c6-076e7edee3be"
      },
      "execution_count": 33,
      "outputs": [
        {
          "output_type": "execute_result",
          "data": {
            "text/plain": [
              "array([-0.70464741,  0.9762517 ,  3.62492269,  0.43176726, -1.2753461 ,\n",
              "        1.11236125])"
            ]
          },
          "metadata": {},
          "execution_count": 33
        }
      ]
    },
    {
      "cell_type": "code",
      "source": [
        "arr2 + arr3"
      ],
      "metadata": {
        "colab": {
          "base_uri": "https://localhost:8080/"
        },
        "id": "MBfxYKNrVLfb",
        "outputId": "3c78d019-c701-4676-b2d6-097c83dc6580"
      },
      "execution_count": 34,
      "outputs": [
        {
          "output_type": "execute_result",
          "data": {
            "text/plain": [
              "array([-0.70464741,  0.9762517 ,  3.62492269,  0.43176726, -1.2753461 ,\n",
              "        1.11236125])"
            ]
          },
          "metadata": {},
          "execution_count": 34
        }
      ]
    },
    {
      "cell_type": "code",
      "source": [
        "np.multiply(arr2, arr3) # ikkita mos ravishda teng bo'lgan elementlarni ko'paytirib beradi."
      ],
      "metadata": {
        "colab": {
          "base_uri": "https://localhost:8080/"
        },
        "id": "ZtzJ2HlgVU81",
        "outputId": "2ab7dd19-7a6a-4c15-96a5-2e6eaef9be46"
      },
      "execution_count": 35,
      "outputs": [
        {
          "output_type": "execute_result",
          "data": {
            "text/plain": [
              "array([-0.90953434,  0.23801366,  3.28498819, -0.5718782 , -0.51819449,\n",
              "        0.1117736 ])"
            ]
          },
          "metadata": {},
          "execution_count": 35
        }
      ]
    },
    {
      "cell_type": "code",
      "source": [
        "np.maximum(arr2, arr3)"
      ],
      "metadata": {
        "colab": {
          "base_uri": "https://localhost:8080/"
        },
        "id": "K_ThdEy3Vlyy",
        "outputId": "b56b142c-eb33-4226-f9ae-237dbe32bb3e"
      },
      "execution_count": 41,
      "outputs": [
        {
          "output_type": "execute_result",
          "data": {
            "text/plain": [
              "array([0.66437012, 0.50403759, 1.81774735, 1.00232113, 0.3240033 ,\n",
              "       1.00066155])"
            ]
          },
          "metadata": {},
          "execution_count": 41
        }
      ]
    },
    {
      "cell_type": "code",
      "source": [
        "arr2"
      ],
      "metadata": {
        "colab": {
          "base_uri": "https://localhost:8080/"
        },
        "id": "mZeQZAObWBt6",
        "outputId": "c3e1bd2f-93c9-4d53-dedb-c42614af792f"
      },
      "execution_count": 40,
      "outputs": [
        {
          "output_type": "execute_result",
          "data": {
            "text/plain": [
              "array([-1.36901753,  0.50403759,  1.80717535, -0.57055387, -1.5993494 ,\n",
              "        1.00066155])"
            ]
          },
          "metadata": {},
          "execution_count": 40
        }
      ]
    },
    {
      "cell_type": "code",
      "source": [
        "arr3"
      ],
      "metadata": {
        "colab": {
          "base_uri": "https://localhost:8080/"
        },
        "id": "roNg7-kdWQeC",
        "outputId": "323e93ed-b1ec-4dc3-c183-7c87873344e4"
      },
      "execution_count": 39,
      "outputs": [
        {
          "output_type": "execute_result",
          "data": {
            "text/plain": [
              "array([0.66437012, 0.4722141 , 1.81774735, 1.00232113, 0.3240033 ,\n",
              "       0.1116997 ])"
            ]
          },
          "metadata": {},
          "execution_count": 39
        }
      ]
    }
  ]
}