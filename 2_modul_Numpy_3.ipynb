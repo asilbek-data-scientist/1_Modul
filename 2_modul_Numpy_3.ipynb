{
  "nbformat": 4,
  "nbformat_minor": 0,
  "metadata": {
    "colab": {
      "provenance": [],
      "authorship_tag": "ABX9TyOEXmb8FlqwBcjVIjCzhHSP",
      "include_colab_link": true
    },
    "kernelspec": {
      "name": "python3",
      "display_name": "Python 3"
    },
    "language_info": {
      "name": "python"
    }
  },
  "cells": [
    {
      "cell_type": "markdown",
      "metadata": {
        "id": "view-in-github",
        "colab_type": "text"
      },
      "source": [
        "<a href=\"https://colab.research.google.com/github/asilbek-data-scientist/1_Modul/blob/main/2_modul_Numpy_3.ipynb\" target=\"_parent\"><img src=\"https://colab.research.google.com/assets/colab-badge.svg\" alt=\"Open In Colab\"/></a>"
      ]
    },
    {
      "cell_type": "markdown",
      "source": [
        "Universal funksiyalar\n",
        "\n",
        "    sqrt, square, exp, log, modf, sign, isnan funksiyalarini ko'rib chiqamiz."
      ],
      "metadata": {
        "id": "3FtR3luO_HUC"
      }
    },
    {
      "cell_type": "code",
      "execution_count": 2,
      "metadata": {
        "id": "Yza66ulX9-m6"
      },
      "outputs": [],
      "source": [
        "import numpy as np"
      ]
    },
    {
      "cell_type": "code",
      "source": [
        "arr = np.arange(10)"
      ],
      "metadata": {
        "id": "fgydMfoQ_CY7"
      },
      "execution_count": 3,
      "outputs": []
    },
    {
      "cell_type": "code",
      "source": [
        "np.sqrt(arr)"
      ],
      "metadata": {
        "colab": {
          "base_uri": "https://localhost:8080/"
        },
        "id": "p4HsSlrz_GCK",
        "outputId": "024a2902-ebc2-4a62-998c-f53445783671"
      },
      "execution_count": 4,
      "outputs": [
        {
          "output_type": "execute_result",
          "data": {
            "text/plain": [
              "array([0.        , 1.        , 1.41421356, 1.73205081, 2.        ,\n",
              "       2.23606798, 2.44948974, 2.64575131, 2.82842712, 3.        ])"
            ]
          },
          "metadata": {},
          "execution_count": 4
        }
      ]
    },
    {
      "cell_type": "code",
      "source": [
        "np.square(arr)"
      ],
      "metadata": {
        "colab": {
          "base_uri": "https://localhost:8080/"
        },
        "id": "4cT4zRT6_sNL",
        "outputId": "05c2e2c0-e004-4ce6-d610-63782854af2f"
      },
      "execution_count": 5,
      "outputs": [
        {
          "output_type": "execute_result",
          "data": {
            "text/plain": [
              "array([ 0,  1,  4,  9, 16, 25, 36, 49, 64, 81])"
            ]
          },
          "metadata": {},
          "execution_count": 5
        }
      ]
    },
    {
      "cell_type": "code",
      "source": [
        "np.exp(arr)"
      ],
      "metadata": {
        "colab": {
          "base_uri": "https://localhost:8080/"
        },
        "id": "f_Kfr3q7Hpbl",
        "outputId": "bc871e68-1887-421c-e3c4-76f4e015dd20"
      },
      "execution_count": 6,
      "outputs": [
        {
          "output_type": "execute_result",
          "data": {
            "text/plain": [
              "array([1.00000000e+00, 2.71828183e+00, 7.38905610e+00, 2.00855369e+01,\n",
              "       5.45981500e+01, 1.48413159e+02, 4.03428793e+02, 1.09663316e+03,\n",
              "       2.98095799e+03, 8.10308393e+03])"
            ]
          },
          "metadata": {},
          "execution_count": 6
        }
      ]
    },
    {
      "cell_type": "code",
      "source": [
        "np.log(arr[1:])"
      ],
      "metadata": {
        "colab": {
          "base_uri": "https://localhost:8080/"
        },
        "id": "_IjmF4xWHunl",
        "outputId": "5d4dd95c-03b3-46fa-a8a7-3e0e23d45389"
      },
      "execution_count": 7,
      "outputs": [
        {
          "output_type": "execute_result",
          "data": {
            "text/plain": [
              "array([0.        , 0.69314718, 1.09861229, 1.38629436, 1.60943791,\n",
              "       1.79175947, 1.94591015, 2.07944154, 2.19722458])"
            ]
          },
          "metadata": {},
          "execution_count": 7
        }
      ]
    },
    {
      "cell_type": "code",
      "source": [
        "arr1 = np.random.randn(6) # 6 ta elementdan iborat taxminiy qiymatlarga ega massiv\n",
        "arr1"
      ],
      "metadata": {
        "colab": {
          "base_uri": "https://localhost:8080/"
        },
        "id": "KCMnOeuDH9tN",
        "outputId": "28d1d750-60c9-4402-de45-b4f21a28654c"
      },
      "execution_count": 8,
      "outputs": [
        {
          "output_type": "execute_result",
          "data": {
            "text/plain": [
              "array([-1.08868966, -2.27675313, -0.21605779, -0.12549705,  0.57715196,\n",
              "       -0.87007424])"
            ]
          },
          "metadata": {},
          "execution_count": 8
        }
      ]
    },
    {
      "cell_type": "code",
      "source": [
        "qoldiq, butun = np.modf(arr1) # arr1 ning elementlarini qoldiq va butun qismlarini ikkita massivga ajratib beradi."
      ],
      "metadata": {
        "id": "RtEdPKQLIG49"
      },
      "execution_count": 9,
      "outputs": []
    },
    {
      "cell_type": "code",
      "source": [
        "print(qoldiq)\n",
        "print(butun)"
      ],
      "metadata": {
        "colab": {
          "base_uri": "https://localhost:8080/"
        },
        "id": "zDmSru-RQqql",
        "outputId": "0056c9b0-a8c6-47c1-f4c1-24368ce429d2"
      },
      "execution_count": 10,
      "outputs": [
        {
          "output_type": "stream",
          "name": "stdout",
          "text": [
            "[-0.08868966 -0.27675313 -0.21605779 -0.12549705  0.57715196 -0.87007424]\n",
            "[-1. -2. -0. -0.  0. -0.]\n"
          ]
        }
      ]
    },
    {
      "cell_type": "code",
      "source": [
        "np.sign(arr1) # arr1 massivning elementlari ishoralarini \"-1\" va \"1\" larni qaytaradi."
      ],
      "metadata": {
        "colab": {
          "base_uri": "https://localhost:8080/"
        },
        "id": "nnnlMSXcRdFE",
        "outputId": "b5cdfea3-2cd0-40f6-ae29-5f3c60de3a29"
      },
      "execution_count": 11,
      "outputs": [
        {
          "output_type": "execute_result",
          "data": {
            "text/plain": [
              "array([-1., -1., -1., -1.,  1., -1.])"
            ]
          },
          "metadata": {},
          "execution_count": 11
        }
      ]
    },
    {
      "cell_type": "markdown",
      "source": [
        "isnan massivning elementlarida NaN ma'lumoti bo'lsa True qaytaradi va aksincha esa  False qaytaradi."
      ],
      "metadata": {
        "id": "6f057b6TSg16"
      }
    },
    {
      "cell_type": "code",
      "source": [
        "arr1"
      ],
      "metadata": {
        "colab": {
          "base_uri": "https://localhost:8080/"
        },
        "id": "YfPQj3XvSG9c",
        "outputId": "cd2bd78a-c6e1-4f48-c7c4-847118962c35"
      },
      "execution_count": 12,
      "outputs": [
        {
          "output_type": "execute_result",
          "data": {
            "text/plain": [
              "array([-1.08868966, -2.27675313, -0.21605779, -0.12549705,  0.57715196,\n",
              "       -0.87007424])"
            ]
          },
          "metadata": {},
          "execution_count": 12
        }
      ]
    },
    {
      "cell_type": "code",
      "source": [
        "np.isnan(arr1)"
      ],
      "metadata": {
        "colab": {
          "base_uri": "https://localhost:8080/"
        },
        "id": "DvWRnTBXS2P8",
        "outputId": "580b2215-e816-44ec-da1d-a958710050ef"
      },
      "execution_count": 13,
      "outputs": [
        {
          "output_type": "execute_result",
          "data": {
            "text/plain": [
              "array([False, False, False, False, False, False])"
            ]
          },
          "metadata": {},
          "execution_count": 13
        }
      ]
    },
    {
      "cell_type": "code",
      "source": [
        "arr1[0] = np.NaN"
      ],
      "metadata": {
        "id": "u-85IyQiS4zE"
      },
      "execution_count": 14,
      "outputs": []
    },
    {
      "cell_type": "code",
      "source": [
        "np.isnan(arr1)"
      ],
      "metadata": {
        "colab": {
          "base_uri": "https://localhost:8080/"
        },
        "id": "RlUrFcS7TIF7",
        "outputId": "8273533b-dd48-4a15-94a4-6257327f2a32"
      },
      "execution_count": 15,
      "outputs": [
        {
          "output_type": "execute_result",
          "data": {
            "text/plain": [
              "array([ True, False, False, False, False, False])"
            ]
          },
          "metadata": {},
          "execution_count": 15
        }
      ]
    },
    {
      "cell_type": "markdown",
      "source": [
        "Binary funksiyalari (ikkita argument qabul qiluvchi funksiya)\n",
        "\n",
        "  add, multiply, maximum funksiyalarini ko'rib chiqamiz."
      ],
      "metadata": {
        "id": "oGe9ycGBTjek"
      }
    },
    {
      "cell_type": "code",
      "source": [
        "arr2 = np.random.randn(6)\n",
        "arr2"
      ],
      "metadata": {
        "colab": {
          "base_uri": "https://localhost:8080/"
        },
        "id": "iVcu7Mg7TOL8",
        "outputId": "a72862e6-4701-4061-9e5d-fd7954328fd4"
      },
      "execution_count": 16,
      "outputs": [
        {
          "output_type": "execute_result",
          "data": {
            "text/plain": [
              "array([-0.22122193, -1.22168634,  0.10030216, -0.66529549, -1.28774056,\n",
              "        0.14467765])"
            ]
          },
          "metadata": {},
          "execution_count": 16
        }
      ]
    },
    {
      "cell_type": "code",
      "source": [
        "arr3 = np.random.randn(6)\n",
        "arr3"
      ],
      "metadata": {
        "colab": {
          "base_uri": "https://localhost:8080/"
        },
        "id": "ARkb0PGRT94M",
        "outputId": "3bc0b517-3d90-49cb-e088-a4380f06d332"
      },
      "execution_count": 17,
      "outputs": [
        {
          "output_type": "execute_result",
          "data": {
            "text/plain": [
              "array([ 1.07070984, -0.57803732,  1.31476065, -0.98705459,  0.2129596 ,\n",
              "        1.03039691])"
            ]
          },
          "metadata": {},
          "execution_count": 17
        }
      ]
    },
    {
      "cell_type": "code",
      "source": [
        "np.add(arr2, arr3) # arr2 va arr3 ning elementlarini mos ravishda qo'shib beradi."
      ],
      "metadata": {
        "colab": {
          "base_uri": "https://localhost:8080/"
        },
        "id": "rCj-reqYUE_c",
        "outputId": "a96accb7-79aa-4d63-b518-ea80f7013247"
      },
      "execution_count": 18,
      "outputs": [
        {
          "output_type": "execute_result",
          "data": {
            "text/plain": [
              "array([ 0.84948791, -1.79972365,  1.4150628 , -1.65235008, -1.07478096,\n",
              "        1.17507456])"
            ]
          },
          "metadata": {},
          "execution_count": 18
        }
      ]
    },
    {
      "cell_type": "code",
      "source": [
        "arr2 + arr3"
      ],
      "metadata": {
        "colab": {
          "base_uri": "https://localhost:8080/"
        },
        "id": "MBfxYKNrVLfb",
        "outputId": "3bd75356-8931-42f9-fdb1-da1fdea80fa0"
      },
      "execution_count": 19,
      "outputs": [
        {
          "output_type": "execute_result",
          "data": {
            "text/plain": [
              "array([ 0.84948791, -1.79972365,  1.4150628 , -1.65235008, -1.07478096,\n",
              "        1.17507456])"
            ]
          },
          "metadata": {},
          "execution_count": 19
        }
      ]
    },
    {
      "cell_type": "code",
      "source": [
        "np.multiply(arr2, arr3) # ikkita mos ravishda teng bo'lgan elementlarni ko'paytirib beradi."
      ],
      "metadata": {
        "colab": {
          "base_uri": "https://localhost:8080/"
        },
        "id": "ZtzJ2HlgVU81",
        "outputId": "e5296b8c-6a30-490f-8dfc-eec91c2af159"
      },
      "execution_count": 20,
      "outputs": [
        {
          "output_type": "execute_result",
          "data": {
            "text/plain": [
              "array([-0.2368645 ,  0.70618029,  0.13187333,  0.65668297, -0.27423672,\n",
              "        0.1490754 ])"
            ]
          },
          "metadata": {},
          "execution_count": 20
        }
      ]
    },
    {
      "cell_type": "code",
      "source": [
        "np.maximum(arr2, arr3) # ikkita massivning mos qiymatlarini maximumni chiqarib beradi."
      ],
      "metadata": {
        "colab": {
          "base_uri": "https://localhost:8080/"
        },
        "id": "K_ThdEy3Vlyy",
        "outputId": "8f4e7f7c-b4a1-471c-f3bf-cd9310e53f91"
      },
      "execution_count": 21,
      "outputs": [
        {
          "output_type": "execute_result",
          "data": {
            "text/plain": [
              "array([ 1.07070984, -0.57803732,  1.31476065, -0.66529549,  0.2129596 ,\n",
              "        1.03039691])"
            ]
          },
          "metadata": {},
          "execution_count": 21
        }
      ]
    },
    {
      "cell_type": "code",
      "source": [
        "arr2"
      ],
      "metadata": {
        "colab": {
          "base_uri": "https://localhost:8080/"
        },
        "id": "mZeQZAObWBt6",
        "outputId": "7329d120-ce5f-4556-9c5b-0b57ef9873ad"
      },
      "execution_count": 22,
      "outputs": [
        {
          "output_type": "execute_result",
          "data": {
            "text/plain": [
              "array([-0.22122193, -1.22168634,  0.10030216, -0.66529549, -1.28774056,\n",
              "        0.14467765])"
            ]
          },
          "metadata": {},
          "execution_count": 22
        }
      ]
    },
    {
      "cell_type": "code",
      "source": [
        "arr3"
      ],
      "metadata": {
        "colab": {
          "base_uri": "https://localhost:8080/"
        },
        "id": "roNg7-kdWQeC",
        "outputId": "bd98fbdc-6aff-4144-cf96-590fcbf14ecd"
      },
      "execution_count": 23,
      "outputs": [
        {
          "output_type": "execute_result",
          "data": {
            "text/plain": [
              "array([ 1.07070984, -0.57803732,  1.31476065, -0.98705459,  0.2129596 ,\n",
              "        1.03039691])"
            ]
          },
          "metadata": {},
          "execution_count": 23
        }
      ]
    },
    {
      "cell_type": "markdown",
      "source": [
        "Mantiqiy shart operatorlarini massiv operator sifatida qo'llash\n",
        "\n",
        "shart operatori sifatida where dan foydalanish\n",
        "\n",
        "tassavur qiling bizda ikkita massiv mavjud. xarr va yarr. Agarda shart True ni qaytarsa xarr elementini qabul qilgan aksincha esa yarr elementini qabul qilgan yangi massivni hosil qilsin."
      ],
      "metadata": {
        "id": "-3NDLx17YxKS"
      }
    },
    {
      "cell_type": "code",
      "source": [
        "# Massivalar\n",
        "xarr = np.array([1.1, 1.2, 1.3, 1.4, 1.5]) # xarr\n",
        "yarr = np.array([2.1, 2.2, 2.3, 2.4, 2.5]) # yarr"
      ],
      "metadata": {
        "id": "WIHTKCCwZltB"
      },
      "execution_count": 24,
      "outputs": []
    },
    {
      "cell_type": "code",
      "source": [
        "# shart\n",
        "cond = np.array([True, False, True, True, False])"
      ],
      "metadata": {
        "id": "DTZab4VraBmS"
      },
      "execution_count": 25,
      "outputs": []
    },
    {
      "cell_type": "code",
      "source": [
        "# where\n",
        "result = np.where(cond, xarr, yarr) #cond==True : xarr elementi, cond==False : yarr elementi\n",
        "result"
      ],
      "metadata": {
        "colab": {
          "base_uri": "https://localhost:8080/"
        },
        "id": "a_kxpP-jaOih",
        "outputId": "503e76fa-dcf1-4fe2-90ab-95f1a6a139bf"
      },
      "execution_count": 26,
      "outputs": [
        {
          "output_type": "execute_result",
          "data": {
            "text/plain": [
              "array([1.1, 2.2, 1.3, 1.4, 2.5])"
            ]
          },
          "metadata": {},
          "execution_count": 26
        }
      ]
    },
    {
      "cell_type": "code",
      "source": [
        "arr2 = np.random.randn(4,4)\n",
        "arr2"
      ],
      "metadata": {
        "colab": {
          "base_uri": "https://localhost:8080/"
        },
        "id": "AcCLsFJmaYmp",
        "outputId": "315cecde-45b8-437f-e1ba-59eacf082418"
      },
      "execution_count": 27,
      "outputs": [
        {
          "output_type": "execute_result",
          "data": {
            "text/plain": [
              "array([[-1.31896865, -0.93985633, -0.02884567,  0.62527878],\n",
              "       [ 2.09125095, -0.20737059,  1.31649891,  0.4611812 ],\n",
              "       [ 1.11292357,  1.27283718, -0.32436436,  0.80382052],\n",
              "       [-0.68584712, -0.45875687,  0.84260815,  0.66682365]])"
            ]
          },
          "metadata": {},
          "execution_count": 27
        }
      ]
    },
    {
      "cell_type": "code",
      "source": [
        "np.where(arr2<0, 2, -2)"
      ],
      "metadata": {
        "colab": {
          "base_uri": "https://localhost:8080/"
        },
        "id": "XoWpX-xwFsZQ",
        "outputId": "7dc86441-0213-4486-a6ab-af55a18cec87"
      },
      "execution_count": 30,
      "outputs": [
        {
          "output_type": "execute_result",
          "data": {
            "text/plain": [
              "array([[ 2,  2,  2, -2],\n",
              "       [-2,  2, -2, -2],\n",
              "       [-2, -2,  2, -2],\n",
              "       [ 2,  2, -2, -2]])"
            ]
          },
          "metadata": {},
          "execution_count": 30
        }
      ]
    },
    {
      "cell_type": "markdown",
      "source": [
        "Arifmetik amallar"
      ],
      "metadata": {
        "id": "7ZlQS4O2YiA-"
      }
    },
    {
      "cell_type": "code",
      "source": [
        "arr3 = np.arange(6).reshape(2, 3)\n",
        "arr4 = np.arange(6, 12).reshape(2, 3)\n",
        "print(arr3)\n",
        "print(arr4)"
      ],
      "metadata": {
        "colab": {
          "base_uri": "https://localhost:8080/"
        },
        "id": "_b6Im4eGKwsl",
        "outputId": "672840ab-7d7e-41e9-df26-31bd149f3f25"
      },
      "execution_count": 32,
      "outputs": [
        {
          "output_type": "stream",
          "name": "stdout",
          "text": [
            "[[0 1 2]\n",
            " [3 4 5]]\n",
            "[[ 6  7  8]\n",
            " [ 9 10 11]]\n"
          ]
        }
      ]
    },
    {
      "cell_type": "code",
      "source": [
        "# massivlarni ko'paytirish\n",
        "arr3 *arr4"
      ],
      "metadata": {
        "colab": {
          "base_uri": "https://localhost:8080/"
        },
        "id": "-Z1WwqBCY4Wi",
        "outputId": "d37033f8-e42d-4846-b4a4-bce5e66e3f1a"
      },
      "execution_count": 33,
      "outputs": [
        {
          "output_type": "execute_result",
          "data": {
            "text/plain": [
              "array([[ 0,  7, 16],\n",
              "       [27, 40, 55]])"
            ]
          },
          "metadata": {},
          "execution_count": 33
        }
      ]
    },
    {
      "cell_type": "code",
      "source": [
        "# massivlarda bo'lish amallari\n",
        "arr4[1:] / arr3[1:]"
      ],
      "metadata": {
        "colab": {
          "base_uri": "https://localhost:8080/"
        },
        "id": "8cE8CoRAZJF6",
        "outputId": "66f32346-dba8-48a1-ed38-713e2e0ce83e"
      },
      "execution_count": 35,
      "outputs": [
        {
          "output_type": "execute_result",
          "data": {
            "text/plain": [
              "array([[3. , 2.5, 2.2]])"
            ]
          },
          "metadata": {},
          "execution_count": 35
        }
      ]
    },
    {
      "cell_type": "code",
      "source": [
        "arr4 + arr3"
      ],
      "metadata": {
        "colab": {
          "base_uri": "https://localhost:8080/"
        },
        "id": "D379vW4IZfEr",
        "outputId": "5fc21119-034d-4b67-c7d8-e1ca7a5409df"
      },
      "execution_count": 39,
      "outputs": [
        {
          "output_type": "execute_result",
          "data": {
            "text/plain": [
              "array([[ 6,  8, 10],\n",
              "       [12, 14, 16]])"
            ]
          },
          "metadata": {},
          "execution_count": 39
        }
      ]
    },
    {
      "cell_type": "code",
      "source": [
        "# massivlarni ayirish\n",
        "arr4 - arr3"
      ],
      "metadata": {
        "colab": {
          "base_uri": "https://localhost:8080/"
        },
        "id": "KaDjjvoJaONi",
        "outputId": "2afe95ce-42bd-44d2-eee7-071b5533e971"
      },
      "execution_count": 40,
      "outputs": [
        {
          "output_type": "execute_result",
          "data": {
            "text/plain": [
              "array([[6, 6, 6],\n",
              "       [6, 6, 6]])"
            ]
          },
          "metadata": {},
          "execution_count": 40
        }
      ]
    },
    {
      "cell_type": "code",
      "source": [
        "arr3**2"
      ],
      "metadata": {
        "colab": {
          "base_uri": "https://localhost:8080/"
        },
        "id": "qlHFuyWFbG3y",
        "outputId": "a2b71aba-6d84-43ac-bf6f-1ae047f761e8"
      },
      "execution_count": 41,
      "outputs": [
        {
          "output_type": "execute_result",
          "data": {
            "text/plain": [
              "array([[ 0,  1,  4],\n",
              "       [ 9, 16, 25]])"
            ]
          },
          "metadata": {},
          "execution_count": 41
        }
      ]
    },
    {
      "cell_type": "code",
      "source": [
        "np.square(arr3)"
      ],
      "metadata": {
        "colab": {
          "base_uri": "https://localhost:8080/"
        },
        "id": "GJyBRxCsbLZC",
        "outputId": "fe36da7e-f9d2-4233-9067-4089f2a0b97f"
      },
      "execution_count": 42,
      "outputs": [
        {
          "output_type": "execute_result",
          "data": {
            "text/plain": [
              "array([[ 0,  1,  4],\n",
              "       [ 9, 16, 25]])"
            ]
          },
          "metadata": {},
          "execution_count": 42
        }
      ]
    },
    {
      "cell_type": "code",
      "source": [
        "arr3**0.5"
      ],
      "metadata": {
        "colab": {
          "base_uri": "https://localhost:8080/"
        },
        "id": "ZfqwF32SbSRZ",
        "outputId": "8b941743-b181-432d-c258-239a28d3326f"
      },
      "execution_count": 43,
      "outputs": [
        {
          "output_type": "execute_result",
          "data": {
            "text/plain": [
              "array([[0.        , 1.        , 1.41421356],\n",
              "       [1.73205081, 2.        , 2.23606798]])"
            ]
          },
          "metadata": {},
          "execution_count": 43
        }
      ]
    },
    {
      "cell_type": "markdown",
      "source": [
        "Statistik amallar"
      ],
      "metadata": {
        "id": "LXpebD_Lccdj"
      }
    },
    {
      "cell_type": "code",
      "source": [
        "arr5 = np.random.randn(5, 4)\n",
        "arr5"
      ],
      "metadata": {
        "colab": {
          "base_uri": "https://localhost:8080/"
        },
        "id": "3ABl5cbmbePJ",
        "outputId": "adf093b3-43b9-436c-fdca-b7afbc6dda39"
      },
      "execution_count": 45,
      "outputs": [
        {
          "output_type": "execute_result",
          "data": {
            "text/plain": [
              "array([[-0.33602268,  1.70159883, -0.35773847, -0.01052258],\n",
              "       [ 0.24500401,  1.06095086,  0.84306543, -1.22990666],\n",
              "       [ 0.58677572,  0.0775122 , -0.01079396,  0.32885553],\n",
              "       [-0.74810407,  0.51207953,  0.60507115, -0.29453302],\n",
              "       [-0.35764229, -1.50798727,  1.28747818,  0.58761187]])"
            ]
          },
          "metadata": {},
          "execution_count": 45
        }
      ]
    },
    {
      "cell_type": "code",
      "source": [
        "#arr6 = np.random.randint(10, size=(5, 4))\n",
        "#arr6"
      ],
      "metadata": {
        "colab": {
          "base_uri": "https://localhost:8080/"
        },
        "id": "5lV283g4clSo",
        "outputId": "98e6ce22-7041-442e-b8d6-26b3f379bc74"
      },
      "execution_count": 53,
      "outputs": [
        {
          "output_type": "execute_result",
          "data": {
            "text/plain": [
              "array([[9, 4, 0, 0],\n",
              "       [2, 8, 8, 8],\n",
              "       [4, 2, 7, 6],\n",
              "       [7, 6, 6, 0],\n",
              "       [5, 3, 6, 2]])"
            ]
          },
          "metadata": {},
          "execution_count": 53
        }
      ]
    },
    {
      "cell_type": "code",
      "source": [
        "arr5.sum() # barcha elementlarni yig'indisini xisoblaydi"
      ],
      "metadata": {
        "colab": {
          "base_uri": "https://localhost:8080/"
        },
        "id": "kDwR8_F0c2wK",
        "outputId": "6dd47154-bb60-4952-f9ca-5f6a114845c2"
      },
      "execution_count": 56,
      "outputs": [
        {
          "output_type": "execute_result",
          "data": {
            "text/plain": [
              "2.982752325571681"
            ]
          },
          "metadata": {},
          "execution_count": 56
        }
      ]
    },
    {
      "cell_type": "code",
      "source": [
        "np.sum(arr5)"
      ],
      "metadata": {
        "colab": {
          "base_uri": "https://localhost:8080/"
        },
        "id": "3bXa08kqdkgR",
        "outputId": "969091fd-32f4-40ba-8453-0664ffd05339"
      },
      "execution_count": 55,
      "outputs": [
        {
          "output_type": "execute_result",
          "data": {
            "text/plain": [
              "2.982752325571681"
            ]
          },
          "metadata": {},
          "execution_count": 55
        }
      ]
    },
    {
      "cell_type": "code",
      "source": [
        "arr5.sum(axis=1) # elementlarni qatorlar bo'yicha xisoblab beradi."
      ],
      "metadata": {
        "colab": {
          "base_uri": "https://localhost:8080/"
        },
        "id": "oqdkH5RgdnvA",
        "outputId": "8d7fe3a6-3325-47e3-a9df-b4812374c638"
      },
      "execution_count": 58,
      "outputs": [
        {
          "output_type": "execute_result",
          "data": {
            "text/plain": [
              "array([0.99731511, 0.91911364, 0.9823495 , 0.0745136 , 0.00946049])"
            ]
          },
          "metadata": {},
          "execution_count": 58
        }
      ]
    },
    {
      "cell_type": "code",
      "source": [
        "arr5.sum(axis=0) # elementlarni ustunlar bo'yicha xisoblab beradi."
      ],
      "metadata": {
        "colab": {
          "base_uri": "https://localhost:8080/"
        },
        "id": "7MYKzB5AeZo5",
        "outputId": "657fcf12-2359-48e7-c33d-c45e1c8418c7"
      },
      "execution_count": 59,
      "outputs": [
        {
          "output_type": "execute_result",
          "data": {
            "text/plain": [
              "array([-0.6099893 ,  1.84415415,  2.36708233, -0.61849485])"
            ]
          },
          "metadata": {},
          "execution_count": 59
        }
      ]
    },
    {
      "cell_type": "code",
      "source": [
        "# mean metodi\n",
        "data = np.arange(5)\n",
        "data"
      ],
      "metadata": {
        "colab": {
          "base_uri": "https://localhost:8080/"
        },
        "id": "QbqJJyLZenCo",
        "outputId": "9669421e-f17b-4b37-8ca5-bfdabcc4d0ce"
      },
      "execution_count": 61,
      "outputs": [
        {
          "output_type": "execute_result",
          "data": {
            "text/plain": [
              "array([0, 1, 2, 3, 4])"
            ]
          },
          "metadata": {},
          "execution_count": 61
        }
      ]
    },
    {
      "cell_type": "code",
      "source": [
        "data.mean() # mean o'rtacha qiymatini xisoblaydi."
      ],
      "metadata": {
        "colab": {
          "base_uri": "https://localhost:8080/"
        },
        "id": "kkMUg2U8e6aw",
        "outputId": "298b12bc-ccfd-42bd-8f9b-9e9d3bec3c58"
      },
      "execution_count": 64,
      "outputs": [
        {
          "output_type": "execute_result",
          "data": {
            "text/plain": [
              "2.0"
            ]
          },
          "metadata": {},
          "execution_count": 64
        }
      ]
    },
    {
      "cell_type": "code",
      "source": [
        "np.mean(data)"
      ],
      "metadata": {
        "colab": {
          "base_uri": "https://localhost:8080/"
        },
        "id": "z1XlhTZme-aB",
        "outputId": "f366fc37-d8a6-4210-e385-70d30a3a7bfc"
      },
      "execution_count": 63,
      "outputs": [
        {
          "output_type": "execute_result",
          "data": {
            "text/plain": [
              "2.0"
            ]
          },
          "metadata": {},
          "execution_count": 63
        }
      ]
    },
    {
      "cell_type": "code",
      "source": [
        "mean = np.sum(data) / len(data)\n",
        "mean"
      ],
      "metadata": {
        "colab": {
          "base_uri": "https://localhost:8080/"
        },
        "id": "3kBhKR0FfCiZ",
        "outputId": "09ae26fa-0b4e-41b4-d879-f715937584e9"
      },
      "execution_count": 65,
      "outputs": [
        {
          "output_type": "execute_result",
          "data": {
            "text/plain": [
              "2.0"
            ]
          },
          "metadata": {},
          "execution_count": 65
        }
      ]
    },
    {
      "cell_type": "code",
      "source": [
        "len(data)"
      ],
      "metadata": {
        "colab": {
          "base_uri": "https://localhost:8080/"
        },
        "id": "eK-WVCJdfYXw",
        "outputId": "bafccb84-e3d8-4de4-c0f5-d3e3a292aed6"
      },
      "execution_count": 67,
      "outputs": [
        {
          "output_type": "execute_result",
          "data": {
            "text/plain": [
              "5"
            ]
          },
          "metadata": {},
          "execution_count": 67
        }
      ]
    },
    {
      "cell_type": "code",
      "source": [
        "arr5"
      ],
      "metadata": {
        "colab": {
          "base_uri": "https://localhost:8080/"
        },
        "id": "CrZXTDyOfc3Q",
        "outputId": "b5997250-9f33-4412-e384-242a78ec4ca3"
      },
      "execution_count": 68,
      "outputs": [
        {
          "output_type": "execute_result",
          "data": {
            "text/plain": [
              "array([[-0.33602268,  1.70159883, -0.35773847, -0.01052258],\n",
              "       [ 0.24500401,  1.06095086,  0.84306543, -1.22990666],\n",
              "       [ 0.58677572,  0.0775122 , -0.01079396,  0.32885553],\n",
              "       [-0.74810407,  0.51207953,  0.60507115, -0.29453302],\n",
              "       [-0.35764229, -1.50798727,  1.28747818,  0.58761187]])"
            ]
          },
          "metadata": {},
          "execution_count": 68
        }
      ]
    },
    {
      "cell_type": "code",
      "source": [
        "arr5.sum()"
      ],
      "metadata": {
        "colab": {
          "base_uri": "https://localhost:8080/"
        },
        "id": "e4t4B0Rif1fo",
        "outputId": "91180629-7bab-44b5-e2ab-d077bbc7deec"
      },
      "execution_count": 69,
      "outputs": [
        {
          "output_type": "execute_result",
          "data": {
            "text/plain": [
              "2.982752325571681"
            ]
          },
          "metadata": {},
          "execution_count": 69
        }
      ]
    },
    {
      "cell_type": "code",
      "source": [
        "arr5.sum(axis=1)"
      ],
      "metadata": {
        "colab": {
          "base_uri": "https://localhost:8080/"
        },
        "id": "CVYFk_ltf31Y",
        "outputId": "e9dd57bb-90f9-48bb-cb33-4d3fa4a204c5"
      },
      "execution_count": 70,
      "outputs": [
        {
          "output_type": "execute_result",
          "data": {
            "text/plain": [
              "array([0.99731511, 0.91911364, 0.9823495 , 0.0745136 , 0.00946049])"
            ]
          },
          "metadata": {},
          "execution_count": 70
        }
      ]
    },
    {
      "cell_type": "code",
      "source": [
        "arr5.sum(axis=0)"
      ],
      "metadata": {
        "colab": {
          "base_uri": "https://localhost:8080/"
        },
        "id": "ixYZJbPhf9Kg",
        "outputId": "e581de2a-3b52-469d-8aaa-73dc3ff746b4"
      },
      "execution_count": 71,
      "outputs": [
        {
          "output_type": "execute_result",
          "data": {
            "text/plain": [
              "array([-0.6099893 ,  1.84415415,  2.36708233, -0.61849485])"
            ]
          },
          "metadata": {},
          "execution_count": 71
        }
      ]
    },
    {
      "cell_type": "code",
      "source": [
        "np.sum(arr5, axis=1)"
      ],
      "metadata": {
        "colab": {
          "base_uri": "https://localhost:8080/"
        },
        "id": "X_3ChL_OgBeA",
        "outputId": "11d29f0b-f301-4a8c-d946-9776ac19811d"
      },
      "execution_count": 72,
      "outputs": [
        {
          "output_type": "execute_result",
          "data": {
            "text/plain": [
              "array([0.99731511, 0.91911364, 0.9823495 , 0.0745136 , 0.00946049])"
            ]
          },
          "metadata": {},
          "execution_count": 72
        }
      ]
    },
    {
      "cell_type": "code",
      "source": [
        "np.sum(arr5, axis=0)"
      ],
      "metadata": {
        "colab": {
          "base_uri": "https://localhost:8080/"
        },
        "id": "ujuRuCpmgHCA",
        "outputId": "55af62d3-1ce3-4a50-f880-b84b811f3b0a"
      },
      "execution_count": 73,
      "outputs": [
        {
          "output_type": "execute_result",
          "data": {
            "text/plain": [
              "array([-0.6099893 ,  1.84415415,  2.36708233, -0.61849485])"
            ]
          },
          "metadata": {},
          "execution_count": 73
        }
      ]
    },
    {
      "cell_type": "code",
      "source": [
        "data"
      ],
      "metadata": {
        "colab": {
          "base_uri": "https://localhost:8080/"
        },
        "id": "KdPLklV9gPB4",
        "outputId": "dec3e45c-fb11-4810-efa4-f35f001d59d7"
      },
      "execution_count": 74,
      "outputs": [
        {
          "output_type": "execute_result",
          "data": {
            "text/plain": [
              "array([0, 1, 2, 3, 4])"
            ]
          },
          "metadata": {},
          "execution_count": 74
        }
      ]
    },
    {
      "cell_type": "code",
      "source": [
        "data.cumsum() # cumsum() o'zidan oldingi elementlarni qo'shib o'sha joyga yozadi."
      ],
      "metadata": {
        "colab": {
          "base_uri": "https://localhost:8080/"
        },
        "id": "YHo9xcjtg6qf",
        "outputId": "d003a9ec-d30e-4f76-8868-0d3ec92e6e44"
      },
      "execution_count": 76,
      "outputs": [
        {
          "output_type": "execute_result",
          "data": {
            "text/plain": [
              "array([ 0,  1,  3,  6, 10])"
            ]
          },
          "metadata": {},
          "execution_count": 76
        }
      ]
    },
    {
      "cell_type": "code",
      "source": [
        "np.cumsum(data)"
      ],
      "metadata": {
        "colab": {
          "base_uri": "https://localhost:8080/"
        },
        "id": "hju77Qe6g85X",
        "outputId": "3a4c5590-a6c6-4cbe-c7e8-8f3058c1631f"
      },
      "execution_count": 77,
      "outputs": [
        {
          "output_type": "execute_result",
          "data": {
            "text/plain": [
              "array([ 0,  1,  3,  6, 10])"
            ]
          },
          "metadata": {},
          "execution_count": 77
        }
      ]
    },
    {
      "cell_type": "markdown",
      "source": [
        "Sorting (tartiblash)"
      ],
      "metadata": {
        "id": "Y2j4nbLglfM9"
      }
    },
    {
      "cell_type": "code",
      "source": [
        "data1 = np.random.rand(7) # rand 0 va 1 oralig'idan element tanlaydi. \n",
        "data1"
      ],
      "metadata": {
        "colab": {
          "base_uri": "https://localhost:8080/"
        },
        "id": "pfCMlo4UhN7v",
        "outputId": "92ec5562-cc65-4ebd-bc9b-2563f3c5c60d"
      },
      "execution_count": 80,
      "outputs": [
        {
          "output_type": "execute_result",
          "data": {
            "text/plain": [
              "array([0.84658377, 0.01169157, 0.21950298, 0.65356028, 0.07331728,\n",
              "       0.50762206, 0.93090807])"
            ]
          },
          "metadata": {},
          "execution_count": 80
        }
      ]
    },
    {
      "cell_type": "code",
      "source": [
        "np.sort(data1) # sort() tartiblaydi."
      ],
      "metadata": {
        "colab": {
          "base_uri": "https://localhost:8080/"
        },
        "id": "u-5Xk6fukFR7",
        "outputId": "2522885b-1881-4c0c-a095-356e0bdc8531"
      },
      "execution_count": 91,
      "outputs": [
        {
          "output_type": "execute_result",
          "data": {
            "text/plain": [
              "array([0.01169157, 0.07331728, 0.21950298, 0.50762206, 0.65356028,\n",
              "       0.84658377, 0.93090807])"
            ]
          },
          "metadata": {},
          "execution_count": 91
        }
      ]
    },
    {
      "cell_type": "code",
      "source": [
        "data1.sort()\n",
        "data1"
      ],
      "metadata": {
        "colab": {
          "base_uri": "https://localhost:8080/"
        },
        "id": "nZvhqHzsl88B",
        "outputId": "6428f55a-3eeb-4041-addb-822e527a2223"
      },
      "execution_count": 90,
      "outputs": [
        {
          "output_type": "execute_result",
          "data": {
            "text/plain": [
              "array([0.01169157, 0.07331728, 0.21950298, 0.50762206, 0.65356028,\n",
              "       0.84658377, 0.93090807])"
            ]
          },
          "metadata": {},
          "execution_count": 90
        }
      ]
    },
    {
      "cell_type": "code",
      "source": [
        "rev_data = -np.sort(-data)\n",
        "rev_data"
      ],
      "metadata": {
        "colab": {
          "base_uri": "https://localhost:8080/"
        },
        "id": "oBKQCKqGmD4B",
        "outputId": "943cdcf7-6f10-4b13-ff51-ca99cf2a772c"
      },
      "execution_count": 93,
      "outputs": [
        {
          "output_type": "execute_result",
          "data": {
            "text/plain": [
              "array([4, 3, 2, 1, 0])"
            ]
          },
          "metadata": {},
          "execution_count": 93
        }
      ]
    },
    {
      "cell_type": "code",
      "source": [
        "data2 = np.random.randn(2, 4)\n",
        "data2"
      ],
      "metadata": {
        "colab": {
          "base_uri": "https://localhost:8080/"
        },
        "id": "36xevzaYnF7R",
        "outputId": "31329b45-bf4b-454a-85ce-a54ca6130116"
      },
      "execution_count": 95,
      "outputs": [
        {
          "output_type": "execute_result",
          "data": {
            "text/plain": [
              "array([[ 0.84334061, -0.10362095, -1.58938426,  0.60006048],\n",
              "       [-1.72664448, -0.48875348,  1.47815364,  0.1668915 ]])"
            ]
          },
          "metadata": {},
          "execution_count": 95
        }
      ]
    },
    {
      "cell_type": "code",
      "source": [
        "row_sorted = np.sort(data2, axis=0)\n",
        "row_sorted"
      ],
      "metadata": {
        "colab": {
          "base_uri": "https://localhost:8080/"
        },
        "id": "riaH49_On-KI",
        "outputId": "c417e316-86c4-4871-ca2c-9b7e394dc306"
      },
      "execution_count": 97,
      "outputs": [
        {
          "output_type": "execute_result",
          "data": {
            "text/plain": [
              "array([[-1.72664448, -0.48875348, -1.58938426,  0.1668915 ],\n",
              "       [ 0.84334061, -0.10362095,  1.47815364,  0.60006048]])"
            ]
          },
          "metadata": {},
          "execution_count": 97
        }
      ]
    },
    {
      "cell_type": "code",
      "source": [
        "data2.sort()\n",
        "data2"
      ],
      "metadata": {
        "colab": {
          "base_uri": "https://localhost:8080/"
        },
        "id": "Spw_Sv5hoLQJ",
        "outputId": "3ee37a13-ab7f-424d-b45f-e9e300229c5c"
      },
      "execution_count": 99,
      "outputs": [
        {
          "output_type": "execute_result",
          "data": {
            "text/plain": [
              "array([[-1.58938426, -0.10362095,  0.60006048,  0.84334061],\n",
              "       [-1.72664448, -0.48875348,  0.1668915 ,  1.47815364]])"
            ]
          },
          "metadata": {},
          "execution_count": 99
        }
      ]
    },
    {
      "cell_type": "code",
      "source": [
        "data2"
      ],
      "metadata": {
        "colab": {
          "base_uri": "https://localhost:8080/"
        },
        "id": "7_7ABVWBod74",
        "outputId": "d6469cb3-5a24-4c4e-d283-8b0955ba5ceb"
      },
      "execution_count": 100,
      "outputs": [
        {
          "output_type": "execute_result",
          "data": {
            "text/plain": [
              "array([[-1.58938426, -0.10362095,  0.60006048,  0.84334061],\n",
              "       [-1.72664448, -0.48875348,  0.1668915 ,  1.47815364]])"
            ]
          },
          "metadata": {},
          "execution_count": 100
        }
      ]
    },
    {
      "cell_type": "code",
      "source": [
        "-np.sort(-data2)"
      ],
      "metadata": {
        "colab": {
          "base_uri": "https://localhost:8080/"
        },
        "id": "67wy-bBnpM1g",
        "outputId": "0a912a7d-bcf1-4ea3-a5ab-1c524c6096ed"
      },
      "execution_count": 101,
      "outputs": [
        {
          "output_type": "execute_result",
          "data": {
            "text/plain": [
              "array([[ 0.84334061,  0.60006048, -0.10362095, -1.58938426],\n",
              "       [ 1.47815364,  0.1668915 , -0.48875348, -1.72664448]])"
            ]
          },
          "metadata": {},
          "execution_count": 101
        }
      ]
    },
    {
      "cell_type": "code",
      "source": [
        "names = np.array(['ali', 'vali', 'nosir', 'aziz', 'o\\'tkir', 'asil', 'murod', 'nazir', 'vali', 'asil'])\n",
        "inst = np.array([3, 3, 3, 4, 5, 5, 6, 8, 9, 9])\n",
        "names"
      ],
      "metadata": {
        "colab": {
          "base_uri": "https://localhost:8080/"
        },
        "id": "k3qBjZMcpVLg",
        "outputId": "868e7d51-327d-4bae-da93-d463215b0b2d"
      },
      "execution_count": 103,
      "outputs": [
        {
          "output_type": "execute_result",
          "data": {
            "text/plain": [
              "array(['ali', 'vali', 'nosir', 'aziz', \"o'tkir\", 'asil', 'murod', 'nazir',\n",
              "       'vali', 'asil'], dtype='<U6')"
            ]
          },
          "metadata": {},
          "execution_count": 103
        }
      ]
    },
    {
      "cell_type": "code",
      "source": [
        "np.unique(names) # unique pythondai set funksiyasi bn bir xil yani takrorlanmas elemntni qaytaradi va alfabit bn tartiblaydi."
      ],
      "metadata": {
        "colab": {
          "base_uri": "https://localhost:8080/"
        },
        "id": "JtMDBi6lsC-v",
        "outputId": "d89f2119-ba45-4bcf-cb98-be889a0dd1ef"
      },
      "execution_count": 105,
      "outputs": [
        {
          "output_type": "execute_result",
          "data": {
            "text/plain": [
              "array(['ali', 'asil', 'aziz', 'murod', 'nazir', 'nosir', \"o'tkir\", 'vali'],\n",
              "      dtype='<U6')"
            ]
          },
          "metadata": {},
          "execution_count": 105
        }
      ]
    },
    {
      "cell_type": "code",
      "source": [
        "set(inst)"
      ],
      "metadata": {
        "colab": {
          "base_uri": "https://localhost:8080/"
        },
        "id": "jNcObncYsMQ_",
        "outputId": "8bdf6387-9ad5-4896-d487-bcb3358360e0"
      },
      "execution_count": 108,
      "outputs": [
        {
          "output_type": "execute_result",
          "data": {
            "text/plain": [
              "{3, 4, 5, 6, 8, 9}"
            ]
          },
          "metadata": {},
          "execution_count": 108
        }
      ]
    },
    {
      "cell_type": "code",
      "source": [
        "num1 = np.random.randint(10, size=6)\n",
        "num1"
      ],
      "metadata": {
        "colab": {
          "base_uri": "https://localhost:8080/"
        },
        "id": "Hi3W3Jv3srq-",
        "outputId": "8fc113d0-d172-4638-e1a0-a5c4178c46fb"
      },
      "execution_count": 117,
      "outputs": [
        {
          "output_type": "execute_result",
          "data": {
            "text/plain": [
              "array([0, 2, 4, 7, 7, 4])"
            ]
          },
          "metadata": {},
          "execution_count": 117
        }
      ]
    },
    {
      "cell_type": "code",
      "source": [
        "num2 = np.random.randint(10, size=6)\n",
        "num2"
      ],
      "metadata": {
        "colab": {
          "base_uri": "https://localhost:8080/"
        },
        "id": "wTLm6w3etgN2",
        "outputId": "6649c7b5-630b-4d1e-e514-150c36cc6a54"
      },
      "execution_count": 118,
      "outputs": [
        {
          "output_type": "execute_result",
          "data": {
            "text/plain": [
              "array([2, 0, 6, 3, 2, 7])"
            ]
          },
          "metadata": {},
          "execution_count": 118
        }
      ]
    },
    {
      "cell_type": "code",
      "source": [
        "check =  np.in1d(num1,num2) # in1d num2 nin ichida num1 elementlari bor bo'lsa True yo'q bo'lsa False qaytaradi.\n",
        "check"
      ],
      "metadata": {
        "colab": {
          "base_uri": "https://localhost:8080/"
        },
        "id": "U4E05vpduOBW",
        "outputId": "aef8c24b-c95b-4168-d0b7-c48bd057ab18"
      },
      "execution_count": 119,
      "outputs": [
        {
          "output_type": "execute_result",
          "data": {
            "text/plain": [
              "array([ True,  True, False,  True,  True, False])"
            ]
          },
          "metadata": {},
          "execution_count": 119
        }
      ]
    },
    {
      "cell_type": "code",
      "source": [
        "names"
      ],
      "metadata": {
        "colab": {
          "base_uri": "https://localhost:8080/"
        },
        "id": "irFSnVFruZ6m",
        "outputId": "ad6e7a29-8579-456c-8a17-c102e4514bb2"
      },
      "execution_count": 120,
      "outputs": [
        {
          "output_type": "execute_result",
          "data": {
            "text/plain": [
              "array(['ali', 'vali', 'nosir', 'aziz', \"o'tkir\", 'asil', 'murod', 'nazir',\n",
              "       'vali', 'asil'], dtype='<U6')"
            ]
          },
          "metadata": {},
          "execution_count": 120
        }
      ]
    },
    {
      "cell_type": "code",
      "source": [
        "names2 = np.array(['ali', 'bobir', 'qosim', 'asil'])\n",
        "names2"
      ],
      "metadata": {
        "colab": {
          "base_uri": "https://localhost:8080/"
        },
        "id": "dT9cF6FMwDBf",
        "outputId": "d6169fe2-1605-46db-c195-5ba85257ba49"
      },
      "execution_count": 121,
      "outputs": [
        {
          "output_type": "execute_result",
          "data": {
            "text/plain": [
              "array(['ali', 'bobir', 'qosim', 'asil'], dtype='<U5')"
            ]
          },
          "metadata": {},
          "execution_count": 121
        }
      ]
    },
    {
      "cell_type": "code",
      "source": [
        "np.setdiff1d(names2, names)"
      ],
      "metadata": {
        "colab": {
          "base_uri": "https://localhost:8080/"
        },
        "id": "OsKx0ot5wTW1",
        "outputId": "8cc56093-a54e-4bd3-fc93-657f327f82ef"
      },
      "execution_count": 124,
      "outputs": [
        {
          "output_type": "execute_result",
          "data": {
            "text/plain": [
              "array(['bobir', 'qosim'], dtype='<U5')"
            ]
          },
          "metadata": {},
          "execution_count": 124
        }
      ]
    },
    {
      "cell_type": "code",
      "source": [
        "import numpy as np"
      ],
      "metadata": {
        "id": "g3-XYLUywZPV"
      },
      "execution_count": 1,
      "outputs": []
    },
    {
      "cell_type": "code",
      "source": [
        "arr7 = np.arange(10)\n",
        "arr7"
      ],
      "metadata": {
        "colab": {
          "base_uri": "https://localhost:8080/"
        },
        "id": "ToB9sPAcuk8P",
        "outputId": "af2dac78-1406-41dc-b0d6-83af3bc6440f"
      },
      "execution_count": 2,
      "outputs": [
        {
          "output_type": "execute_result",
          "data": {
            "text/plain": [
              "array([0, 1, 2, 3, 4, 5, 6, 7, 8, 9])"
            ]
          },
          "metadata": {},
          "execution_count": 2
        }
      ]
    },
    {
      "cell_type": "code",
      "source": [
        "np.save(\"data\", arr7) # save() bitta arrayni saqlaydi."
      ],
      "metadata": {
        "id": "JRuP-ja1uqbG"
      },
      "execution_count": 4,
      "outputs": []
    },
    {
      "cell_type": "code",
      "source": [
        "arr_7 = np.load(\"data.npy\")\n",
        "arr_7"
      ],
      "metadata": {
        "colab": {
          "base_uri": "https://localhost:8080/"
        },
        "id": "cQzjFrDluxE2",
        "outputId": "881d2059-5cf3-4f03-c6e6-7d4c3505617c"
      },
      "execution_count": 5,
      "outputs": [
        {
          "output_type": "execute_result",
          "data": {
            "text/plain": [
              "array([0, 1, 2, 3, 4, 5, 6, 7, 8, 9])"
            ]
          },
          "metadata": {},
          "execution_count": 5
        }
      ]
    },
    {
      "cell_type": "code",
      "source": [
        "arr8 = np.arange(20)\n",
        "arr8"
      ],
      "metadata": {
        "colab": {
          "base_uri": "https://localhost:8080/"
        },
        "id": "ZwCEX1PgvKmO",
        "outputId": "91ef4dcc-2921-44f6-faf3-12822f1c7044"
      },
      "execution_count": 7,
      "outputs": [
        {
          "output_type": "execute_result",
          "data": {
            "text/plain": [
              "array([ 0,  1,  2,  3,  4,  5,  6,  7,  8,  9, 10, 11, 12, 13, 14, 15, 16,\n",
              "       17, 18, 19])"
            ]
          },
          "metadata": {},
          "execution_count": 7
        }
      ]
    },
    {
      "cell_type": "code",
      "source": [
        "np.savez('arrays', a=arr_7, b=arr8)"
      ],
      "metadata": {
        "id": "XfdB_Be2vrYY"
      },
      "execution_count": 13,
      "outputs": []
    },
    {
      "cell_type": "code",
      "source": [
        "arrays = np.load('arrays.npz')\n",
        "arrays['a']"
      ],
      "metadata": {
        "colab": {
          "base_uri": "https://localhost:8080/"
        },
        "id": "qDGJO0Pnv9YN",
        "outputId": "2e779139-0b6d-4782-94bc-5ec1490a9858"
      },
      "execution_count": 15,
      "outputs": [
        {
          "output_type": "execute_result",
          "data": {
            "text/plain": [
              "array([0, 1, 2, 3, 4, 5, 6, 7, 8, 9])"
            ]
          },
          "metadata": {},
          "execution_count": 15
        }
      ]
    },
    {
      "cell_type": "code",
      "source": [
        "arrays['b']"
      ],
      "metadata": {
        "colab": {
          "base_uri": "https://localhost:8080/"
        },
        "id": "E2y0ADQjwK2W",
        "outputId": "63789cdc-c524-45f3-b475-616be025ed55"
      },
      "execution_count": 17,
      "outputs": [
        {
          "output_type": "execute_result",
          "data": {
            "text/plain": [
              "array([ 0,  1,  2,  3,  4,  5,  6,  7,  8,  9, 10, 11, 12, 13, 14, 15, 16,\n",
              "       17, 18, 19])"
            ]
          },
          "metadata": {},
          "execution_count": 17
        }
      ]
    },
    {
      "cell_type": "code",
      "source": [
        "from numpy.lib.npyio import savez_compressed\n",
        "np.savez_compressed(\"array_compressed\", a=arr7, b=arr8)"
      ],
      "metadata": {
        "id": "TBVAxsZ4yQ7F"
      },
      "execution_count": 20,
      "outputs": []
    },
    {
      "cell_type": "code",
      "source": [
        "array_compres = np.load(\"array_compressed.npz\")"
      ],
      "metadata": {
        "id": "6PMAWq1Cy3B0"
      },
      "execution_count": 22,
      "outputs": []
    },
    {
      "cell_type": "code",
      "source": [
        "array_compres['b']"
      ],
      "metadata": {
        "colab": {
          "base_uri": "https://localhost:8080/"
        },
        "id": "aGm5KJ2Jy8Pt",
        "outputId": "19ab07fd-4375-4b50-be9c-25a2f3ce7281"
      },
      "execution_count": 23,
      "outputs": [
        {
          "output_type": "execute_result",
          "data": {
            "text/plain": [
              "array([ 0,  1,  2,  3,  4,  5,  6,  7,  8,  9, 10, 11, 12, 13, 14, 15, 16,\n",
              "       17, 18, 19])"
            ]
          },
          "metadata": {},
          "execution_count": 23
        }
      ]
    },
    {
      "cell_type": "code",
      "source": [
        "x = np.arange(6).reshape(2, 3)\n",
        "x"
      ],
      "metadata": {
        "colab": {
          "base_uri": "https://localhost:8080/"
        },
        "id": "w0HCq2yjzTYE",
        "outputId": "8098ad50-638f-440f-84d6-4325bc2d7014"
      },
      "execution_count": 26,
      "outputs": [
        {
          "output_type": "execute_result",
          "data": {
            "text/plain": [
              "array([[0, 1, 2],\n",
              "       [3, 4, 5]])"
            ]
          },
          "metadata": {},
          "execution_count": 26
        }
      ]
    },
    {
      "cell_type": "code",
      "source": [
        "y = np.random.randint(10, size=(3, 2))\n",
        "y"
      ],
      "metadata": {
        "colab": {
          "base_uri": "https://localhost:8080/"
        },
        "id": "s_ob7Ngf0nlM",
        "outputId": "82967adc-3f5a-41f0-8507-95a83ef712ca"
      },
      "execution_count": 28,
      "outputs": [
        {
          "output_type": "execute_result",
          "data": {
            "text/plain": [
              "array([[1, 0],\n",
              "       [2, 9],\n",
              "       [8, 6]])"
            ]
          },
          "metadata": {},
          "execution_count": 28
        }
      ]
    },
    {
      "cell_type": "code",
      "source": [
        "x.dot(y) #dot x ni y ga ko'paytirish "
      ],
      "metadata": {
        "colab": {
          "base_uri": "https://localhost:8080/"
        },
        "id": "YnZ7iS_W1BCr",
        "outputId": "c1d0d320-4184-402c-9d4c-ec0be1c420f3"
      },
      "execution_count": 29,
      "outputs": [
        {
          "output_type": "execute_result",
          "data": {
            "text/plain": [
              "array([[18, 21],\n",
              "       [51, 66]])"
            ]
          },
          "metadata": {},
          "execution_count": 29
        }
      ]
    },
    {
      "cell_type": "code",
      "source": [
        "np.dot(x,y) #dot x ni y ga ko'paytirish "
      ],
      "metadata": {
        "colab": {
          "base_uri": "https://localhost:8080/"
        },
        "id": "77-rrlPj3gmz",
        "outputId": "7dc2f3ce-a70d-4757-fa41-b109f2fc3345"
      },
      "execution_count": 31,
      "outputs": [
        {
          "output_type": "execute_result",
          "data": {
            "text/plain": [
              "array([[18, 21],\n",
              "       [51, 66]])"
            ]
          },
          "metadata": {},
          "execution_count": 31
        }
      ]
    },
    {
      "cell_type": "code",
      "source": [
        "y.dot(x) # y ni x ga ko'paytish"
      ],
      "metadata": {
        "colab": {
          "base_uri": "https://localhost:8080/"
        },
        "id": "NSG8C8cj1-db",
        "outputId": "c395f406-4dd0-4fd6-f660-50494df2989c"
      },
      "execution_count": 30,
      "outputs": [
        {
          "output_type": "execute_result",
          "data": {
            "text/plain": [
              "array([[ 0,  1,  2],\n",
              "       [27, 38, 49],\n",
              "       [18, 32, 46]])"
            ]
          },
          "metadata": {},
          "execution_count": 30
        }
      ]
    },
    {
      "cell_type": "code",
      "source": [
        "np.dot(y,x) # y ni x ga ko'paytish\n"
      ],
      "metadata": {
        "colab": {
          "base_uri": "https://localhost:8080/"
        },
        "id": "fVBeBuVM2B1D",
        "outputId": "527c04f5-a410-4038-e708-3b4699688312"
      },
      "execution_count": 32,
      "outputs": [
        {
          "output_type": "execute_result",
          "data": {
            "text/plain": [
              "array([[ 0,  1,  2],\n",
              "       [27, 38, 49],\n",
              "       [18, 32, 46]])"
            ]
          },
          "metadata": {},
          "execution_count": 32
        }
      ]
    },
    {
      "cell_type": "code",
      "source": [],
      "metadata": {
        "id": "VWRwvcRu3owj"
      },
      "execution_count": null,
      "outputs": []
    }
  ]
}