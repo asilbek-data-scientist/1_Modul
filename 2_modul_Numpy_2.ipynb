{
  "nbformat": 4,
  "nbformat_minor": 0,
  "metadata": {
    "colab": {
      "provenance": [],
      "authorship_tag": "ABX9TyP7vLhtKVtO4tk6lQ2O8vCd",
      "include_colab_link": true
    },
    "kernelspec": {
      "name": "python3",
      "display_name": "Python 3"
    },
    "language_info": {
      "name": "python"
    }
  },
  "cells": [
    {
      "cell_type": "markdown",
      "metadata": {
        "id": "view-in-github",
        "colab_type": "text"
      },
      "source": [
        "<a href=\"https://colab.research.google.com/github/asilbek-data-scientist/1_Modul/blob/main/2_modul_Numpy_2.ipynb\" target=\"_parent\"><img src=\"https://colab.research.google.com/assets/colab-badge.svg\" alt=\"Open In Colab\"/></a>"
      ]
    },
    {
      "cell_type": "markdown",
      "source": [
        "Indeks va kesib olish usullari"
      ],
      "metadata": {
        "id": "sxC-q-teXvSH"
      }
    },
    {
      "cell_type": "code",
      "execution_count": 2,
      "metadata": {
        "id": "6uqe5TuAXm4K"
      },
      "outputs": [],
      "source": [
        "import numpy as np"
      ]
    },
    {
      "cell_type": "code",
      "source": [
        "arr = np.arange(10, 100, 5)\n",
        "arr"
      ],
      "metadata": {
        "colab": {
          "base_uri": "https://localhost:8080/"
        },
        "id": "5t3FwISGXuhQ",
        "outputId": "ba7f2832-9e15-4791-848b-6f0b78243120"
      },
      "execution_count": 3,
      "outputs": [
        {
          "output_type": "execute_result",
          "data": {
            "text/plain": [
              "array([10, 15, 20, 25, 30, 35, 40, 45, 50, 55, 60, 65, 70, 75, 80, 85, 90,\n",
              "       95])"
            ]
          },
          "metadata": {},
          "execution_count": 3
        }
      ]
    },
    {
      "cell_type": "code",
      "source": [
        "arr.ndim"
      ],
      "metadata": {
        "colab": {
          "base_uri": "https://localhost:8080/"
        },
        "id": "8MTTUnZQX6Dm",
        "outputId": "63595881-acc5-4c22-b45d-4d43d9309f0e"
      },
      "execution_count": 4,
      "outputs": [
        {
          "output_type": "execute_result",
          "data": {
            "text/plain": [
              "1"
            ]
          },
          "metadata": {},
          "execution_count": 4
        }
      ]
    },
    {
      "cell_type": "code",
      "source": [
        "arr.shape"
      ],
      "metadata": {
        "colab": {
          "base_uri": "https://localhost:8080/"
        },
        "id": "FB5v0j0eX-EN",
        "outputId": "0ae47a51-e8ba-4b60-aeee-332d80de1b9d"
      },
      "execution_count": 5,
      "outputs": [
        {
          "output_type": "execute_result",
          "data": {
            "text/plain": [
              "(18,)"
            ]
          },
          "metadata": {},
          "execution_count": 5
        }
      ]
    },
    {
      "cell_type": "code",
      "source": [
        "arr.size"
      ],
      "metadata": {
        "colab": {
          "base_uri": "https://localhost:8080/"
        },
        "id": "yYua5z5sX__P",
        "outputId": "0bfa5a69-c5be-4299-de98-cef8fdb216bb"
      },
      "execution_count": 6,
      "outputs": [
        {
          "output_type": "execute_result",
          "data": {
            "text/plain": [
              "18"
            ]
          },
          "metadata": {},
          "execution_count": 6
        }
      ]
    },
    {
      "cell_type": "code",
      "source": [
        "arr.dtype"
      ],
      "metadata": {
        "colab": {
          "base_uri": "https://localhost:8080/"
        },
        "id": "vaRlcB6LYG2u",
        "outputId": "32a4346c-081f-41a7-b362-7864b3a16d43"
      },
      "execution_count": 7,
      "outputs": [
        {
          "output_type": "execute_result",
          "data": {
            "text/plain": [
              "dtype('int64')"
            ]
          },
          "metadata": {},
          "execution_count": 7
        }
      ]
    },
    {
      "cell_type": "code",
      "source": [
        "arr_float = arr.astype(np.float64)\n",
        "arr_float"
      ],
      "metadata": {
        "colab": {
          "base_uri": "https://localhost:8080/"
        },
        "id": "ajqjamRFYNVm",
        "outputId": "eb0c141b-810e-48a6-c556-5f3296902f17"
      },
      "execution_count": 8,
      "outputs": [
        {
          "output_type": "execute_result",
          "data": {
            "text/plain": [
              "array([10., 15., 20., 25., 30., 35., 40., 45., 50., 55., 60., 65., 70.,\n",
              "       75., 80., 85., 90., 95.])"
            ]
          },
          "metadata": {},
          "execution_count": 8
        }
      ]
    },
    {
      "cell_type": "code",
      "source": [
        "arr"
      ],
      "metadata": {
        "colab": {
          "base_uri": "https://localhost:8080/"
        },
        "id": "23MrlB_BYXRl",
        "outputId": "3f9a4449-6154-4194-b9ae-31dde8aca9cb"
      },
      "execution_count": 9,
      "outputs": [
        {
          "output_type": "execute_result",
          "data": {
            "text/plain": [
              "array([10, 15, 20, 25, 30, 35, 40, 45, 50, 55, 60, 65, 70, 75, 80, 85, 90,\n",
              "       95])"
            ]
          },
          "metadata": {},
          "execution_count": 9
        }
      ]
    },
    {
      "cell_type": "code",
      "source": [
        "arr[3:6]"
      ],
      "metadata": {
        "colab": {
          "base_uri": "https://localhost:8080/"
        },
        "id": "s565xKAlYa6-",
        "outputId": "f5218856-b53d-4e47-9919-af52865c5347"
      },
      "execution_count": 10,
      "outputs": [
        {
          "output_type": "execute_result",
          "data": {
            "text/plain": [
              "array([25, 30, 35])"
            ]
          },
          "metadata": {},
          "execution_count": 10
        }
      ]
    },
    {
      "cell_type": "code",
      "source": [
        "arr_sliced = arr[3:6]\n",
        "arr_sliced[:] = 0\n",
        "arr_sliced"
      ],
      "metadata": {
        "colab": {
          "base_uri": "https://localhost:8080/"
        },
        "id": "fPVkcMBrZlVl",
        "outputId": "3d2ee99e-5395-4135-b48d-4417dc988d6e"
      },
      "execution_count": 11,
      "outputs": [
        {
          "output_type": "execute_result",
          "data": {
            "text/plain": [
              "array([0, 0, 0])"
            ]
          },
          "metadata": {},
          "execution_count": 11
        }
      ]
    },
    {
      "cell_type": "code",
      "source": [
        "arr2 = np.arange(10, 100, 10)\n",
        "arr2"
      ],
      "metadata": {
        "colab": {
          "base_uri": "https://localhost:8080/"
        },
        "id": "2udKlxoTZ2x0",
        "outputId": "848b9a5f-687d-4bb3-ff60-e585b085eef9"
      },
      "execution_count": 12,
      "outputs": [
        {
          "output_type": "execute_result",
          "data": {
            "text/plain": [
              "array([10, 20, 30, 40, 50, 60, 70, 80, 90])"
            ]
          },
          "metadata": {},
          "execution_count": 12
        }
      ]
    },
    {
      "cell_type": "code",
      "source": [
        "sliced_arr2 = arr2[4:7].copy()\n",
        "sliced_arr2"
      ],
      "metadata": {
        "colab": {
          "base_uri": "https://localhost:8080/"
        },
        "id": "g9NEMK_WaZkL",
        "outputId": "ad2d2292-59a7-4403-9988-0908a7b8e5ac"
      },
      "execution_count": 13,
      "outputs": [
        {
          "output_type": "execute_result",
          "data": {
            "text/plain": [
              "array([50, 60, 70])"
            ]
          },
          "metadata": {},
          "execution_count": 13
        }
      ]
    },
    {
      "cell_type": "code",
      "source": [
        "sliced_arr2[:] = 0\n",
        "sliced_arr2"
      ],
      "metadata": {
        "colab": {
          "base_uri": "https://localhost:8080/"
        },
        "id": "k422d99aaxAN",
        "outputId": "a2c499b9-19c8-4e40-88ed-f0a847bc070b"
      },
      "execution_count": 14,
      "outputs": [
        {
          "output_type": "execute_result",
          "data": {
            "text/plain": [
              "array([0, 0, 0])"
            ]
          },
          "metadata": {},
          "execution_count": 14
        }
      ]
    },
    {
      "cell_type": "code",
      "source": [
        "arr2"
      ],
      "metadata": {
        "colab": {
          "base_uri": "https://localhost:8080/"
        },
        "id": "ufKmfCh0a_Oz",
        "outputId": "a6096a74-a25c-43ef-851c-c9fa56f061d1"
      },
      "execution_count": 15,
      "outputs": [
        {
          "output_type": "execute_result",
          "data": {
            "text/plain": [
              "array([10, 20, 30, 40, 50, 60, 70, 80, 90])"
            ]
          },
          "metadata": {},
          "execution_count": 15
        }
      ]
    },
    {
      "cell_type": "code",
      "source": [],
      "metadata": {
        "id": "yYVVVN0ecLvn"
      },
      "execution_count": 15,
      "outputs": []
    },
    {
      "cell_type": "markdown",
      "source": [
        "Ikki o'lchamli massivlarni bitta elementlarini kesib olish"
      ],
      "metadata": {
        "id": "9I8yVMZCcMk7"
      }
    },
    {
      "cell_type": "code",
      "source": [
        "arr2d = np.array([[1,2,3],[4,5,6],[7,8,9]])\n",
        "arr2d"
      ],
      "metadata": {
        "colab": {
          "base_uri": "https://localhost:8080/"
        },
        "id": "uTu1sZg3bAZz",
        "outputId": "1c4b3380-76f9-4381-a15f-917188b07d76"
      },
      "execution_count": 16,
      "outputs": [
        {
          "output_type": "execute_result",
          "data": {
            "text/plain": [
              "array([[1, 2, 3],\n",
              "       [4, 5, 6],\n",
              "       [7, 8, 9]])"
            ]
          },
          "metadata": {},
          "execution_count": 16
        }
      ]
    },
    {
      "cell_type": "code",
      "source": [
        "arr2d.dtype"
      ],
      "metadata": {
        "colab": {
          "base_uri": "https://localhost:8080/"
        },
        "id": "rjpU-3Tqci9a",
        "outputId": "0b5ea112-9038-4d29-bdf4-c192255ffb35"
      },
      "execution_count": 17,
      "outputs": [
        {
          "output_type": "execute_result",
          "data": {
            "text/plain": [
              "dtype('int64')"
            ]
          },
          "metadata": {},
          "execution_count": 17
        }
      ]
    },
    {
      "cell_type": "code",
      "source": [
        "arr2d.ndim"
      ],
      "metadata": {
        "colab": {
          "base_uri": "https://localhost:8080/"
        },
        "id": "xSOqezO6clQZ",
        "outputId": "c10dd198-82f3-4bfd-c2da-f582091023fd"
      },
      "execution_count": 18,
      "outputs": [
        {
          "output_type": "execute_result",
          "data": {
            "text/plain": [
              "2"
            ]
          },
          "metadata": {},
          "execution_count": 18
        }
      ]
    },
    {
      "cell_type": "code",
      "source": [
        "arr_4 = arr2d[1,0]\n",
        "arr_4"
      ],
      "metadata": {
        "colab": {
          "base_uri": "https://localhost:8080/"
        },
        "id": "CM-eW7RHcqyZ",
        "outputId": "b3843458-77bf-4f63-92e0-ff491195c71a"
      },
      "execution_count": 19,
      "outputs": [
        {
          "output_type": "execute_result",
          "data": {
            "text/plain": [
              "4"
            ]
          },
          "metadata": {},
          "execution_count": 19
        }
      ]
    },
    {
      "cell_type": "code",
      "source": [
        "arr_8 = arr2d[2,1]\n",
        "arr_8 = 0"
      ],
      "metadata": {
        "id": "jVkk2Gpnc7WZ"
      },
      "execution_count": 20,
      "outputs": []
    },
    {
      "cell_type": "code",
      "source": [
        "arr2d"
      ],
      "metadata": {
        "colab": {
          "base_uri": "https://localhost:8080/"
        },
        "id": "_GYoBQ8IdGC5",
        "outputId": "0fb066fc-0a9e-4e31-b62c-e2cd9e413a97"
      },
      "execution_count": 21,
      "outputs": [
        {
          "output_type": "execute_result",
          "data": {
            "text/plain": [
              "array([[1, 2, 3],\n",
              "       [4, 5, 6],\n",
              "       [7, 8, 9]])"
            ]
          },
          "metadata": {},
          "execution_count": 21
        }
      ]
    },
    {
      "cell_type": "code",
      "source": [
        "arr2d_8 = arr2d[1, 0:3]\n",
        "arr2d_8"
      ],
      "metadata": {
        "colab": {
          "base_uri": "https://localhost:8080/"
        },
        "id": "JbWLSDlhdQQR",
        "outputId": "1d3fe89a-ab21-4cda-fcf7-02e6562f1b2f"
      },
      "execution_count": 22,
      "outputs": [
        {
          "output_type": "execute_result",
          "data": {
            "text/plain": [
              "array([4, 5, 6])"
            ]
          },
          "metadata": {},
          "execution_count": 22
        }
      ]
    },
    {
      "cell_type": "code",
      "source": [
        "arr3d = np.arange(27).reshape(((3, 3, 3)))\n",
        "arr3d"
      ],
      "metadata": {
        "colab": {
          "base_uri": "https://localhost:8080/"
        },
        "id": "2F5T2X52eP9Y",
        "outputId": "708f0403-77ba-4c77-e765-b81646468715"
      },
      "execution_count": 23,
      "outputs": [
        {
          "output_type": "execute_result",
          "data": {
            "text/plain": [
              "array([[[ 0,  1,  2],\n",
              "        [ 3,  4,  5],\n",
              "        [ 6,  7,  8]],\n",
              "\n",
              "       [[ 9, 10, 11],\n",
              "        [12, 13, 14],\n",
              "        [15, 16, 17]],\n",
              "\n",
              "       [[18, 19, 20],\n",
              "        [21, 22, 23],\n",
              "        [24, 25, 26]]])"
            ]
          },
          "metadata": {},
          "execution_count": 23
        }
      ]
    },
    {
      "cell_type": "code",
      "source": [
        "arr4d = np.arange(18).reshape(((2, 3, 3)))\n",
        "arr4d"
      ],
      "metadata": {
        "colab": {
          "base_uri": "https://localhost:8080/"
        },
        "id": "Bv8FgRmmehyw",
        "outputId": "c67bd76f-7d79-464d-80d3-857e3ae3d686"
      },
      "execution_count": 24,
      "outputs": [
        {
          "output_type": "execute_result",
          "data": {
            "text/plain": [
              "array([[[ 0,  1,  2],\n",
              "        [ 3,  4,  5],\n",
              "        [ 6,  7,  8]],\n",
              "\n",
              "       [[ 9, 10, 11],\n",
              "        [12, 13, 14],\n",
              "        [15, 16, 17]]])"
            ]
          },
          "metadata": {},
          "execution_count": 24
        }
      ]
    },
    {
      "cell_type": "code",
      "source": [
        "arr3d[1]"
      ],
      "metadata": {
        "colab": {
          "base_uri": "https://localhost:8080/"
        },
        "id": "SBjU5kT6o_65",
        "outputId": "20ff15e9-b4b4-442e-9f0b-432b44b6c5c4"
      },
      "execution_count": 25,
      "outputs": [
        {
          "output_type": "execute_result",
          "data": {
            "text/plain": [
              "array([[ 9, 10, 11],\n",
              "       [12, 13, 14],\n",
              "       [15, 16, 17]])"
            ]
          },
          "metadata": {},
          "execution_count": 25
        }
      ]
    },
    {
      "cell_type": "code",
      "source": [
        "arr3d[1][1:,1:]"
      ],
      "metadata": {
        "colab": {
          "base_uri": "https://localhost:8080/"
        },
        "id": "3b1-vr-UpsgB",
        "outputId": "2a80f700-ae6c-4b90-8e4c-2056d1fde85a"
      },
      "execution_count": 26,
      "outputs": [
        {
          "output_type": "execute_result",
          "data": {
            "text/plain": [
              "array([[13, 14],\n",
              "       [16, 17]])"
            ]
          },
          "metadata": {},
          "execution_count": 26
        }
      ]
    },
    {
      "cell_type": "code",
      "source": [
        "# Ismlar\n",
        "names = np.array(['Hasan', 'Husan', 'Mirzabek', 'Elyor', 'Hasan', 'Javohir', 'Elyor'])\n",
        "names"
      ],
      "metadata": {
        "colab": {
          "base_uri": "https://localhost:8080/"
        },
        "id": "XPoTMfesp4wJ",
        "outputId": "7eb4a1ae-5d96-4794-faa5-5073196fb948"
      },
      "execution_count": 27,
      "outputs": [
        {
          "output_type": "execute_result",
          "data": {
            "text/plain": [
              "array(['Hasan', 'Husan', 'Mirzabek', 'Elyor', 'Hasan', 'Javohir', 'Elyor'],\n",
              "      dtype='<U8')"
            ]
          },
          "metadata": {},
          "execution_count": 27
        }
      ]
    },
    {
      "cell_type": "code",
      "source": [
        "# data\n",
        "data = np.random.randn(7,4)\n",
        "data"
      ],
      "metadata": {
        "colab": {
          "base_uri": "https://localhost:8080/"
        },
        "id": "7U-YuaCEtsmN",
        "outputId": "bbe51d85-2861-47b7-981f-9136e51fa1eb"
      },
      "execution_count": 53,
      "outputs": [
        {
          "output_type": "execute_result",
          "data": {
            "text/plain": [
              "array([[ 0.2793797 , -0.47134043,  1.23942332, -1.29230485],\n",
              "       [-0.59732594,  0.25397309,  0.24335962,  0.31273898],\n",
              "       [ 0.60890865, -0.4785903 ,  0.99339083,  1.30281136],\n",
              "       [-0.78555995, -0.87610634,  1.95288561,  1.28405997],\n",
              "       [-0.97609241,  0.1407985 , -0.19951321,  0.68541071],\n",
              "       [ 1.08275194,  1.73443104, -1.28311387, -0.68728156],\n",
              "       [ 0.13174432,  0.76141145, -1.45108107,  1.26450581]])"
            ]
          },
          "metadata": {},
          "execution_count": 53
        }
      ]
    },
    {
      "cell_type": "code",
      "source": [
        "names == \"Hasan\""
      ],
      "metadata": {
        "colab": {
          "base_uri": "https://localhost:8080/"
        },
        "id": "_LkppYwRt8xF",
        "outputId": "553b0208-a46c-4212-ee95-567fed596654"
      },
      "execution_count": 54,
      "outputs": [
        {
          "output_type": "execute_result",
          "data": {
            "text/plain": [
              "array([ True, False, False, False,  True, False, False])"
            ]
          },
          "metadata": {},
          "execution_count": 54
        }
      ]
    },
    {
      "cell_type": "code",
      "source": [
        "data[names == \"Hasan\"] # Hasanga tegishli barcha malumotlarni kesib olish."
      ],
      "metadata": {
        "colab": {
          "base_uri": "https://localhost:8080/"
        },
        "id": "MgQoJjzju0rE",
        "outputId": "56b91198-4487-4b3a-ce87-94cb0924032c"
      },
      "execution_count": 55,
      "outputs": [
        {
          "output_type": "execute_result",
          "data": {
            "text/plain": [
              "array([[ 0.2793797 , -0.47134043,  1.23942332, -1.29230485],\n",
              "       [-0.97609241,  0.1407985 , -0.19951321,  0.68541071]])"
            ]
          },
          "metadata": {},
          "execution_count": 55
        }
      ]
    },
    {
      "cell_type": "code",
      "source": [
        "names == \"Elyor\""
      ],
      "metadata": {
        "colab": {
          "base_uri": "https://localhost:8080/"
        },
        "id": "6ZvR8fk9u5Ek",
        "outputId": "25ec51ee-b142-448e-8482-747987be70b1"
      },
      "execution_count": 56,
      "outputs": [
        {
          "output_type": "execute_result",
          "data": {
            "text/plain": [
              "array([False, False, False,  True, False, False,  True])"
            ]
          },
          "metadata": {},
          "execution_count": 56
        }
      ]
    },
    {
      "cell_type": "code",
      "source": [
        "data[names == \"Elyor\"] # Elyorga tegishli barcha mal'umotlarni kesib olish."
      ],
      "metadata": {
        "colab": {
          "base_uri": "https://localhost:8080/"
        },
        "id": "JI8pRicTvExE",
        "outputId": "5f69b27b-4ee6-46de-cd67-19214a4d8fe2"
      },
      "execution_count": 57,
      "outputs": [
        {
          "output_type": "execute_result",
          "data": {
            "text/plain": [
              "array([[-0.78555995, -0.87610634,  1.95288561,  1.28405997],\n",
              "       [ 0.13174432,  0.76141145, -1.45108107,  1.26450581]])"
            ]
          },
          "metadata": {},
          "execution_count": 57
        }
      ]
    },
    {
      "cell_type": "code",
      "source": [
        "names == \"Mirzabek\""
      ],
      "metadata": {
        "colab": {
          "base_uri": "https://localhost:8080/"
        },
        "id": "axzigHoJvIg8",
        "outputId": "f5b55237-decc-4001-fcf0-769089b46ca7"
      },
      "execution_count": 58,
      "outputs": [
        {
          "output_type": "execute_result",
          "data": {
            "text/plain": [
              "array([False, False,  True, False, False, False, False])"
            ]
          },
          "metadata": {},
          "execution_count": 58
        }
      ]
    },
    {
      "cell_type": "code",
      "source": [
        "data[names == \"Mirzabek\"] #Mirzabekga tegishli barcha malumotlarni kesib olish."
      ],
      "metadata": {
        "colab": {
          "base_uri": "https://localhost:8080/"
        },
        "id": "Pn1NSmiowH9U",
        "outputId": "a2f8ee4e-1876-4caa-b515-ca617e48cc04"
      },
      "execution_count": 59,
      "outputs": [
        {
          "output_type": "execute_result",
          "data": {
            "text/plain": [
              "array([[ 0.60890865, -0.4785903 ,  0.99339083,  1.30281136]])"
            ]
          },
          "metadata": {},
          "execution_count": 59
        }
      ]
    },
    {
      "cell_type": "code",
      "source": [
        "data[names == \"Mirzabek\", 1:2] #Mizrabekga tegishli bitta malumotni kesib olish."
      ],
      "metadata": {
        "colab": {
          "base_uri": "https://localhost:8080/"
        },
        "id": "i3hf9A_VwNtr",
        "outputId": "d97fa3a4-2cde-4118-f43d-1d8dcafba908"
      },
      "execution_count": 60,
      "outputs": [
        {
          "output_type": "execute_result",
          "data": {
            "text/plain": [
              "array([[-0.4785903]])"
            ]
          },
          "metadata": {},
          "execution_count": 60
        }
      ]
    },
    {
      "cell_type": "code",
      "source": [
        "names != 'Hasan'"
      ],
      "metadata": {
        "colab": {
          "base_uri": "https://localhost:8080/"
        },
        "id": "Qyl-X8YFxJLY",
        "outputId": "2ba31a2f-14d7-450d-e646-e9223b535cef"
      },
      "execution_count": 61,
      "outputs": [
        {
          "output_type": "execute_result",
          "data": {
            "text/plain": [
              "array([False,  True,  True,  True, False,  True,  True])"
            ]
          },
          "metadata": {},
          "execution_count": 61
        }
      ]
    },
    {
      "cell_type": "code",
      "source": [
        "data[names != 'Hasan']"
      ],
      "metadata": {
        "colab": {
          "base_uri": "https://localhost:8080/"
        },
        "id": "xPM0lbNtwk1D",
        "outputId": "284d2a9a-2106-47b7-b6d9-add2c08237db"
      },
      "execution_count": 62,
      "outputs": [
        {
          "output_type": "execute_result",
          "data": {
            "text/plain": [
              "array([[-0.59732594,  0.25397309,  0.24335962,  0.31273898],\n",
              "       [ 0.60890865, -0.4785903 ,  0.99339083,  1.30281136],\n",
              "       [-0.78555995, -0.87610634,  1.95288561,  1.28405997],\n",
              "       [ 1.08275194,  1.73443104, -1.28311387, -0.68728156],\n",
              "       [ 0.13174432,  0.76141145, -1.45108107,  1.26450581]])"
            ]
          },
          "metadata": {},
          "execution_count": 62
        }
      ]
    },
    {
      "cell_type": "code",
      "source": [
        "data[~(names == 'Hasan')]"
      ],
      "metadata": {
        "colab": {
          "base_uri": "https://localhost:8080/"
        },
        "id": "_9KxZfbrw_4b",
        "outputId": "357465b8-fd09-4df2-9371-9c495aee438f"
      },
      "execution_count": 63,
      "outputs": [
        {
          "output_type": "execute_result",
          "data": {
            "text/plain": [
              "array([[-0.59732594,  0.25397309,  0.24335962,  0.31273898],\n",
              "       [ 0.60890865, -0.4785903 ,  0.99339083,  1.30281136],\n",
              "       [-0.78555995, -0.87610634,  1.95288561,  1.28405997],\n",
              "       [ 1.08275194,  1.73443104, -1.28311387, -0.68728156],\n",
              "       [ 0.13174432,  0.76141145, -1.45108107,  1.26450581]])"
            ]
          },
          "metadata": {},
          "execution_count": 63
        }
      ]
    },
    {
      "cell_type": "code",
      "source": [
        "names"
      ],
      "metadata": {
        "colab": {
          "base_uri": "https://localhost:8080/"
        },
        "id": "PfeKAtP3yPIC",
        "outputId": "aa957f36-23d2-4688-aaff-2cf97789dc0c"
      },
      "execution_count": 64,
      "outputs": [
        {
          "output_type": "execute_result",
          "data": {
            "text/plain": [
              "array(['Hasan', 'Husan', 'Mirzabek', 'Elyor', 'Hasan', 'Javohir', 'Elyor'],\n",
              "      dtype='<U8')"
            ]
          },
          "metadata": {},
          "execution_count": 64
        }
      ]
    },
    {
      "cell_type": "code",
      "source": [
        "mask = (names == 'Hasan') | (names == 'Husan')\n",
        "mask"
      ],
      "metadata": {
        "colab": {
          "base_uri": "https://localhost:8080/"
        },
        "id": "2GlHVFYOyuhh",
        "outputId": "c3d8afb7-84ea-4be6-a878-286c03056a87"
      },
      "execution_count": 65,
      "outputs": [
        {
          "output_type": "execute_result",
          "data": {
            "text/plain": [
              "array([ True,  True, False, False,  True, False, False])"
            ]
          },
          "metadata": {},
          "execution_count": 65
        }
      ]
    },
    {
      "cell_type": "code",
      "source": [
        "data[mask]"
      ],
      "metadata": {
        "colab": {
          "base_uri": "https://localhost:8080/"
        },
        "id": "Annyu6cOy9FZ",
        "outputId": "2afb6dba-f50a-4c69-dc2b-790642e8effd"
      },
      "execution_count": 66,
      "outputs": [
        {
          "output_type": "execute_result",
          "data": {
            "text/plain": [
              "array([[ 0.2793797 , -0.47134043,  1.23942332, -1.29230485],\n",
              "       [-0.59732594,  0.25397309,  0.24335962,  0.31273898],\n",
              "       [-0.97609241,  0.1407985 , -0.19951321,  0.68541071]])"
            ]
          },
          "metadata": {},
          "execution_count": 66
        }
      ]
    },
    {
      "cell_type": "code",
      "source": [
        "data"
      ],
      "metadata": {
        "colab": {
          "base_uri": "https://localhost:8080/"
        },
        "id": "VwvvL18v1yVQ",
        "outputId": "241b1050-525f-4de6-8423-10147c093adb"
      },
      "execution_count": 67,
      "outputs": [
        {
          "output_type": "execute_result",
          "data": {
            "text/plain": [
              "array([[ 0.2793797 , -0.47134043,  1.23942332, -1.29230485],\n",
              "       [-0.59732594,  0.25397309,  0.24335962,  0.31273898],\n",
              "       [ 0.60890865, -0.4785903 ,  0.99339083,  1.30281136],\n",
              "       [-0.78555995, -0.87610634,  1.95288561,  1.28405997],\n",
              "       [-0.97609241,  0.1407985 , -0.19951321,  0.68541071],\n",
              "       [ 1.08275194,  1.73443104, -1.28311387, -0.68728156],\n",
              "       [ 0.13174432,  0.76141145, -1.45108107,  1.26450581]])"
            ]
          },
          "metadata": {},
          "execution_count": 67
        }
      ]
    },
    {
      "cell_type": "code",
      "source": [
        "data[data<0]=0\n",
        "data"
      ],
      "metadata": {
        "colab": {
          "base_uri": "https://localhost:8080/"
        },
        "id": "bFcISNK1Le0f",
        "outputId": "bd0251cc-eae2-4fe4-8cc7-34699a8d1c06"
      },
      "execution_count": 68,
      "outputs": [
        {
          "output_type": "execute_result",
          "data": {
            "text/plain": [
              "array([[0.2793797 , 0.        , 1.23942332, 0.        ],\n",
              "       [0.        , 0.25397309, 0.24335962, 0.31273898],\n",
              "       [0.60890865, 0.        , 0.99339083, 1.30281136],\n",
              "       [0.        , 0.        , 1.95288561, 1.28405997],\n",
              "       [0.        , 0.1407985 , 0.        , 0.68541071],\n",
              "       [1.08275194, 1.73443104, 0.        , 0.        ],\n",
              "       [0.13174432, 0.76141145, 0.        , 1.26450581]])"
            ]
          },
          "metadata": {},
          "execution_count": 68
        }
      ]
    },
    {
      "cell_type": "code",
      "source": [
        "data[data>1] = 1\n",
        "data"
      ],
      "metadata": {
        "colab": {
          "base_uri": "https://localhost:8080/"
        },
        "id": "h8wMQxM_Lmfm",
        "outputId": "b93f3853-f893-4ded-f777-a1ee3bd6527e"
      },
      "execution_count": 69,
      "outputs": [
        {
          "output_type": "execute_result",
          "data": {
            "text/plain": [
              "array([[0.2793797 , 0.        , 1.        , 0.        ],\n",
              "       [0.        , 0.25397309, 0.24335962, 0.31273898],\n",
              "       [0.60890865, 0.        , 0.99339083, 1.        ],\n",
              "       [0.        , 0.        , 1.        , 1.        ],\n",
              "       [0.        , 0.1407985 , 0.        , 0.68541071],\n",
              "       [1.        , 1.        , 0.        , 0.        ],\n",
              "       [0.13174432, 0.76141145, 0.        , 1.        ]])"
            ]
          },
          "metadata": {},
          "execution_count": 69
        }
      ]
    },
    {
      "cell_type": "code",
      "source": [],
      "metadata": {
        "id": "v7gsiRQPLxZ_"
      },
      "execution_count": 69,
      "outputs": []
    }
  ]
}