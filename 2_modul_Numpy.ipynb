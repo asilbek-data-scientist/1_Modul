{
  "nbformat": 4,
  "nbformat_minor": 0,
  "metadata": {
    "colab": {
      "provenance": [],
      "authorship_tag": "ABX9TyNs6OyWYxpCyYUy/v/PEJEh",
      "include_colab_link": true
    },
    "kernelspec": {
      "name": "python3",
      "display_name": "Python 3"
    },
    "language_info": {
      "name": "python"
    },
    "accelerator": "GPU"
  },
  "cells": [
    {
      "cell_type": "markdown",
      "metadata": {
        "id": "view-in-github",
        "colab_type": "text"
      },
      "source": [
        "<a href=\"https://colab.research.google.com/github/asilbek-data-scientist/1_Modul/blob/main/2_modul_Numpy.ipynb\" target=\"_parent\"><img src=\"https://colab.research.google.com/assets/colab-badge.svg\" alt=\"Open In Colab\"/></a>"
      ]
    },
    {
      "cell_type": "markdown",
      "source": [
        "Numpy kutubxonasini chaqirib olish."
      ],
      "metadata": {
        "id": "YTa-NS2y-ZHX"
      }
    },
    {
      "cell_type": "code",
      "execution_count": 1,
      "metadata": {
        "id": "yVveZee_-Eh8"
      },
      "outputs": [],
      "source": [
        "import numpy as np"
      ]
    },
    {
      "cell_type": "markdown",
      "source": [
        "Python list bn Numpy kutubxoxnasidagi massivelar(arraylar) orasidagi farqni ko'ramiz."
      ],
      "metadata": {
        "id": "IOWwg3sK-gOp"
      }
    },
    {
      "cell_type": "code",
      "source": [
        "my_list = list(range(100000)) # python list 0-99999 -->normal \n",
        "my_array = np.array(range(100000)) # numpy array (massive) --> vektorlashgan"
      ],
      "metadata": {
        "id": "Kisj5xto-zsa"
      },
      "execution_count": 2,
      "outputs": []
    },
    {
      "cell_type": "code",
      "source": [
        "%time for _ in range(10): [x*2 for x in my_list] #normal"
      ],
      "metadata": {
        "colab": {
          "base_uri": "https://localhost:8080/"
        },
        "id": "P5i5m_7JJ-aV",
        "outputId": "6c3e7d51-08ec-48a9-cbab-3ec675adc432"
      },
      "execution_count": 7,
      "outputs": [
        {
          "output_type": "stream",
          "name": "stdout",
          "text": [
            "CPU times: user 52.3 ms, sys: 13.8 ms, total: 66.1 ms\n",
            "Wall time: 65.7 ms\n"
          ]
        }
      ]
    },
    {
      "cell_type": "code",
      "source": [
        "%time for _ in range(10): 2*my_array #vektorlashgan"
      ],
      "metadata": {
        "colab": {
          "base_uri": "https://localhost:8080/"
        },
        "id": "vw4IwzuvLXHs",
        "outputId": "da9ca576-1c83-4cb6-cb8c-49c138a5e518"
      },
      "execution_count": 8,
      "outputs": [
        {
          "output_type": "stream",
          "name": "stdout",
          "text": [
            "CPU times: user 3.58 ms, sys: 0 ns, total: 3.58 ms\n",
            "Wall time: 3.15 ms\n"
          ]
        }
      ]
    },
    {
      "cell_type": "markdown",
      "source": [
        "vektorlashgan usulda 20 marta tezroq ishlaydi"
      ],
      "metadata": {
        "id": "GCfTd7VNNTWx"
      }
    },
    {
      "cell_type": "code",
      "source": [
        "65.7/3.15"
      ],
      "metadata": {
        "colab": {
          "base_uri": "https://localhost:8080/"
        },
        "id": "Vgctc0qFMcBX",
        "outputId": "19133ba2-58d0-4531-f2bf-a3b433086a65"
      },
      "execution_count": 9,
      "outputs": [
        {
          "output_type": "execute_result",
          "data": {
            "text/plain": [
              "20.857142857142858"
            ]
          },
          "metadata": {},
          "execution_count": 9
        }
      ]
    },
    {
      "cell_type": "code",
      "source": [],
      "metadata": {
        "id": "AISYCn6VNIUs"
      },
      "execution_count": null,
      "outputs": []
    }
  ]
}