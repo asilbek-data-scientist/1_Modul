{
  "nbformat": 4,
  "nbformat_minor": 0,
  "metadata": {
    "colab": {
      "provenance": [],
      "authorship_tag": "ABX9TyNSq7HPGDLnHRTtfMmoCl+k",
      "include_colab_link": true
    },
    "kernelspec": {
      "name": "python3",
      "display_name": "Python 3"
    },
    "language_info": {
      "name": "python"
    },
    "accelerator": "GPU"
  },
  "cells": [
    {
      "cell_type": "markdown",
      "metadata": {
        "id": "view-in-github",
        "colab_type": "text"
      },
      "source": [
        "<a href=\"https://colab.research.google.com/github/asilbek-data-scientist/1_Modul/blob/main/2_modul_Numpy.ipynb\" target=\"_parent\"><img src=\"https://colab.research.google.com/assets/colab-badge.svg\" alt=\"Open In Colab\"/></a>"
      ]
    },
    {
      "cell_type": "markdown",
      "source": [
        "Numpy kutubxonasini chaqirib olish."
      ],
      "metadata": {
        "id": "YTa-NS2y-ZHX"
      }
    },
    {
      "cell_type": "code",
      "execution_count": 1,
      "metadata": {
        "id": "yVveZee_-Eh8"
      },
      "outputs": [],
      "source": [
        "import numpy as np"
      ]
    },
    {
      "cell_type": "markdown",
      "source": [
        "Python list bn Numpy kutubxoxnasidagi massivelar(arraylar) orasidagi farqni ko'ramiz."
      ],
      "metadata": {
        "id": "IOWwg3sK-gOp"
      }
    },
    {
      "cell_type": "code",
      "source": [
        "my_list = list(range(100000)) # python list 0-99999 -->normal \n",
        "my_array = np.array(range(100000)) # numpy array (massive) --> vektorlashgan"
      ],
      "metadata": {
        "id": "Kisj5xto-zsa"
      },
      "execution_count": 2,
      "outputs": []
    },
    {
      "cell_type": "code",
      "source": [
        "%time for _ in range(10): [x*2 for x in my_list] #normal"
      ],
      "metadata": {
        "colab": {
          "base_uri": "https://localhost:8080/"
        },
        "id": "P5i5m_7JJ-aV",
        "outputId": "4d0e4dd9-e27b-4e3a-e33a-f53dfd64e5d2"
      },
      "execution_count": 3,
      "outputs": [
        {
          "output_type": "stream",
          "name": "stdout",
          "text": [
            "CPU times: user 91 ms, sys: 14.6 ms, total: 106 ms\n",
            "Wall time: 108 ms\n"
          ]
        }
      ]
    },
    {
      "cell_type": "code",
      "source": [
        "%time for _ in range(10): 2*my_array #vektorlashgan"
      ],
      "metadata": {
        "colab": {
          "base_uri": "https://localhost:8080/"
        },
        "id": "vw4IwzuvLXHs",
        "outputId": "254b86be-1017-41b6-f001-356e42ebfa8a"
      },
      "execution_count": 4,
      "outputs": [
        {
          "output_type": "stream",
          "name": "stdout",
          "text": [
            "CPU times: user 3.01 ms, sys: 224 µs, total: 3.23 ms\n",
            "Wall time: 5.12 ms\n"
          ]
        }
      ]
    },
    {
      "cell_type": "markdown",
      "source": [
        "vektorlashgan usulda 20 marta tezroq ishlaydi"
      ],
      "metadata": {
        "id": "GCfTd7VNNTWx"
      }
    },
    {
      "cell_type": "code",
      "source": [
        "65.7/3.15"
      ],
      "metadata": {
        "colab": {
          "base_uri": "https://localhost:8080/"
        },
        "id": "Vgctc0qFMcBX",
        "outputId": "4e786294-9750-481f-a509-59807914df09"
      },
      "execution_count": 5,
      "outputs": [
        {
          "output_type": "execute_result",
          "data": {
            "text/plain": [
              "20.857142857142858"
            ]
          },
          "metadata": {},
          "execution_count": 5
        }
      ]
    },
    {
      "cell_type": "markdown",
      "source": [
        "Numpyda massiv yaratishning eng oson yo'llaridan biri bu 'array' funksiyasi yordamida amalga oshiriladi. Ushbu funksiya har qanday turdagi ketma-ket ma'lumotlarni qabul qilib, uni yangi Numpy arrayiga o'girib beradi."
      ],
      "metadata": {
        "id": "CS7eqHv5g6xO"
      }
    },
    {
      "cell_type": "code",
      "source": [
        "data1 = [3.5, 5, 6, 2] #list\n",
        "arr1 = np.array(data1) #array1"
      ],
      "metadata": {
        "id": "AISYCn6VNIUs"
      },
      "execution_count": 6,
      "outputs": []
    },
    {
      "cell_type": "code",
      "source": [
        "arr1"
      ],
      "metadata": {
        "id": "yFPS_H8shvaI",
        "outputId": "f84202ff-f829-44c4-d75f-5ff4f58c1a81",
        "colab": {
          "base_uri": "https://localhost:8080/"
        }
      },
      "execution_count": 7,
      "outputs": [
        {
          "output_type": "execute_result",
          "data": {
            "text/plain": [
              "array([3.5, 5. , 6. , 2. ])"
            ]
          },
          "metadata": {},
          "execution_count": 7
        }
      ]
    },
    {
      "cell_type": "code",
      "source": [
        "type(arr1)"
      ],
      "metadata": {
        "id": "GUwQcmjuyRFb",
        "outputId": "851b409d-46cd-4298-8a90-933eda4a0916",
        "colab": {
          "base_uri": "https://localhost:8080/"
        }
      },
      "execution_count": 26,
      "outputs": [
        {
          "output_type": "execute_result",
          "data": {
            "text/plain": [
              "numpy.ndarray"
            ]
          },
          "metadata": {},
          "execution_count": 26
        }
      ]
    },
    {
      "cell_type": "code",
      "source": [
        "data2 = (4, 6, 7.8, 18) #tuple\n",
        "arr2 = np.array(data2)\n",
        "arr2"
      ],
      "metadata": {
        "id": "JBFKoDHvhx8f",
        "outputId": "c21d0a6f-ff34-45c9-b4e0-044d0cb71bad",
        "colab": {
          "base_uri": "https://localhost:8080/"
        }
      },
      "execution_count": 8,
      "outputs": [
        {
          "output_type": "execute_result",
          "data": {
            "text/plain": [
              "array([ 4. ,  6. ,  7.8, 18. ])"
            ]
          },
          "metadata": {},
          "execution_count": 8
        }
      ]
    },
    {
      "cell_type": "markdown",
      "source": [
        "Massiv o'lchami"
      ],
      "metadata": {
        "id": "e5s0uukJir5s"
      }
    },
    {
      "cell_type": "code",
      "source": [
        "arr1.ndim #array1 ning massiv o'lchami"
      ],
      "metadata": {
        "id": "m6Y0fD61idUI",
        "outputId": "f203e931-e5f8-4592-af24-e2a28f94452a",
        "colab": {
          "base_uri": "https://localhost:8080/"
        }
      },
      "execution_count": 9,
      "outputs": [
        {
          "output_type": "execute_result",
          "data": {
            "text/plain": [
              "1"
            ]
          },
          "metadata": {},
          "execution_count": 9
        }
      ]
    },
    {
      "cell_type": "code",
      "source": [
        "arr2.ndim #array2 ning massiv o'lchami"
      ],
      "metadata": {
        "id": "5M8luEznizvQ",
        "outputId": "20274239-3b07-4b8b-d5ab-dbf973070260",
        "colab": {
          "base_uri": "https://localhost:8080/"
        }
      },
      "execution_count": 10,
      "outputs": [
        {
          "output_type": "execute_result",
          "data": {
            "text/plain": [
              "1"
            ]
          },
          "metadata": {},
          "execution_count": 10
        }
      ]
    },
    {
      "cell_type": "markdown",
      "source": [
        "ikki va undan katta o'lchmli massivlar"
      ],
      "metadata": {
        "id": "sQrjPhwtjmjI"
      }
    },
    {
      "cell_type": "code",
      "source": [
        "data3 = [[1, 2, 3, 4], [5,6,7,8]] #list ichidagi list (nested list)\n",
        "arr3 = np.array(data3)\n",
        "arr3"
      ],
      "metadata": {
        "id": "pvGEMesZi5kY",
        "outputId": "422c5e2c-47cd-47a3-f719-a56708cdaf87",
        "colab": {
          "base_uri": "https://localhost:8080/"
        }
      },
      "execution_count": 11,
      "outputs": [
        {
          "output_type": "execute_result",
          "data": {
            "text/plain": [
              "array([[1, 2, 3, 4],\n",
              "       [5, 6, 7, 8]])"
            ]
          },
          "metadata": {},
          "execution_count": 11
        }
      ]
    },
    {
      "cell_type": "code",
      "source": [
        "arr3.ndim"
      ],
      "metadata": {
        "id": "GipY3xR2j_zf",
        "outputId": "4a274cb4-d402-456f-9267-f3c0acea0890",
        "colab": {
          "base_uri": "https://localhost:8080/"
        }
      },
      "execution_count": 12,
      "outputs": [
        {
          "output_type": "execute_result",
          "data": {
            "text/plain": [
              "2"
            ]
          },
          "metadata": {},
          "execution_count": 12
        }
      ]
    },
    {
      "cell_type": "code",
      "source": [
        "data4 = [[[1,2,3,],[4,5,6,],[7,8,9]]]\n",
        "arr4 = np.array(data4)\n",
        "arr4"
      ],
      "metadata": {
        "id": "MCind7L_jVrQ",
        "outputId": "9c35a28e-ffcc-4d2f-e4d7-fdbd9f4ac0c6",
        "colab": {
          "base_uri": "https://localhost:8080/"
        }
      },
      "execution_count": 13,
      "outputs": [
        {
          "output_type": "execute_result",
          "data": {
            "text/plain": [
              "array([[[1, 2, 3],\n",
              "        [4, 5, 6],\n",
              "        [7, 8, 9]]])"
            ]
          },
          "metadata": {},
          "execution_count": 13
        }
      ]
    },
    {
      "cell_type": "code",
      "source": [
        "arr4.ndim"
      ],
      "metadata": {
        "id": "M_wDPM5LkH4I",
        "outputId": "0051bc48-b39c-4966-c0bd-dafe9b73b302",
        "colab": {
          "base_uri": "https://localhost:8080/"
        }
      },
      "execution_count": 14,
      "outputs": [
        {
          "output_type": "execute_result",
          "data": {
            "text/plain": [
              "3"
            ]
          },
          "metadata": {},
          "execution_count": 14
        }
      ]
    },
    {
      "cell_type": "markdown",
      "source": [
        "shape, size metodalari\n",
        "  - shape metodi massivning qatorlari sonini, size massivdagi elementlar sonini ko'rsatadi. (q, u)"
      ],
      "metadata": {
        "id": "pe-kmf4XkoNP"
      }
    },
    {
      "cell_type": "code",
      "source": [
        "arr4"
      ],
      "metadata": {
        "id": "9ALSlSiwoz4p",
        "outputId": "c1d6717e-44c3-4682-eb53-3ef5c0a49d5e",
        "colab": {
          "base_uri": "https://localhost:8080/"
        }
      },
      "execution_count": 15,
      "outputs": [
        {
          "output_type": "execute_result",
          "data": {
            "text/plain": [
              "array([[[1, 2, 3],\n",
              "        [4, 5, 6],\n",
              "        [7, 8, 9]]])"
            ]
          },
          "metadata": {},
          "execution_count": 15
        }
      ]
    },
    {
      "cell_type": "code",
      "source": [
        "arr4.shape"
      ],
      "metadata": {
        "id": "PoHEGzxOkRAH",
        "outputId": "c432cd4f-2f20-4708-9bc1-bfc81e6dcdc6",
        "colab": {
          "base_uri": "https://localhost:8080/"
        }
      },
      "execution_count": 16,
      "outputs": [
        {
          "output_type": "execute_result",
          "data": {
            "text/plain": [
              "(1, 3, 3)"
            ]
          },
          "metadata": {},
          "execution_count": 16
        }
      ]
    },
    {
      "cell_type": "code",
      "source": [
        "arr3.shape # shape qaator va ustunlar sonini ko'rsatadi."
      ],
      "metadata": {
        "id": "cGsfjE_elKH5",
        "outputId": "219ae5a7-89d3-4377-cb18-1cee936c6230",
        "colab": {
          "base_uri": "https://localhost:8080/"
        }
      },
      "execution_count": 17,
      "outputs": [
        {
          "output_type": "execute_result",
          "data": {
            "text/plain": [
              "(2, 4)"
            ]
          },
          "metadata": {},
          "execution_count": 17
        }
      ]
    },
    {
      "cell_type": "code",
      "source": [
        "arr3"
      ],
      "metadata": {
        "id": "v5hskhPelzxS",
        "outputId": "3bf5abf8-211c-4d03-d9c0-88b713c9f238",
        "colab": {
          "base_uri": "https://localhost:8080/"
        }
      },
      "execution_count": 18,
      "outputs": [
        {
          "output_type": "execute_result",
          "data": {
            "text/plain": [
              "array([[1, 2, 3, 4],\n",
              "       [5, 6, 7, 8]])"
            ]
          },
          "metadata": {},
          "execution_count": 18
        }
      ]
    },
    {
      "cell_type": "code",
      "source": [
        "arr3.size # size massivdagi elementlar sonini ko'rsatadi."
      ],
      "metadata": {
        "id": "-67YMJx7lVTJ",
        "outputId": "f4f23977-9115-46f6-f4f8-aef1e208df3b",
        "colab": {
          "base_uri": "https://localhost:8080/"
        }
      },
      "execution_count": 19,
      "outputs": [
        {
          "output_type": "execute_result",
          "data": {
            "text/plain": [
              "8"
            ]
          },
          "metadata": {},
          "execution_count": 19
        }
      ]
    },
    {
      "cell_type": "markdown",
      "source": [
        "zeros va ones massivelarini yaratish."
      ],
      "metadata": {
        "id": "d0uaXyrcml8t"
      }
    },
    {
      "cell_type": "code",
      "source": [
        "arr_zeros = np.zeros((2, 4)) # barcha elementlari nolga teng massivlar yaratadi.\n",
        "arr_zeros"
      ],
      "metadata": {
        "id": "8biRAEghlyeK",
        "outputId": "ba861464-2521-4f1f-eefd-71254d3579a9",
        "colab": {
          "base_uri": "https://localhost:8080/"
        }
      },
      "execution_count": 20,
      "outputs": [
        {
          "output_type": "execute_result",
          "data": {
            "text/plain": [
              "array([[0., 0., 0., 0.],\n",
              "       [0., 0., 0., 0.]])"
            ]
          },
          "metadata": {},
          "execution_count": 20
        }
      ]
    },
    {
      "cell_type": "code",
      "source": [
        "arr_ones = np.ones((2, 3, 5))\n",
        "arr_ones"
      ],
      "metadata": {
        "id": "Ux76W5jTm30Z",
        "outputId": "5e9f3033-8638-4b3f-ea58-ec25693c6540",
        "colab": {
          "base_uri": "https://localhost:8080/"
        }
      },
      "execution_count": 21,
      "outputs": [
        {
          "output_type": "execute_result",
          "data": {
            "text/plain": [
              "array([[[1., 1., 1., 1., 1.],\n",
              "        [1., 1., 1., 1., 1.],\n",
              "        [1., 1., 1., 1., 1.]],\n",
              "\n",
              "       [[1., 1., 1., 1., 1.],\n",
              "        [1., 1., 1., 1., 1.],\n",
              "        [1., 1., 1., 1., 1.]]])"
            ]
          },
          "metadata": {},
          "execution_count": 21
        }
      ]
    },
    {
      "cell_type": "code",
      "source": [
        "arr6 = np.arange(4, 30, 2) #4 dan 30 gacha qiymatlarni 2 qadam massivga joylab beradi.\n",
        "arr6"
      ],
      "metadata": {
        "id": "_k6aQ2ZfnMLR",
        "outputId": "9f4125a3-a22f-4c40-d91e-61f3eb1a814c",
        "colab": {
          "base_uri": "https://localhost:8080/"
        }
      },
      "execution_count": 22,
      "outputs": [
        {
          "output_type": "execute_result",
          "data": {
            "text/plain": [
              "array([ 4,  6,  8, 10, 12, 14, 16, 18, 20, 22, 24, 26, 28])"
            ]
          },
          "metadata": {},
          "execution_count": 22
        }
      ]
    },
    {
      "cell_type": "code",
      "source": [
        "arr_6 = np.arange(20) # default bo'lganda start=0 qadam=1 hisoblanadi.\n",
        "arr_6"
      ],
      "metadata": {
        "id": "0KRXwHl-n1up",
        "outputId": "897a0409-b5e1-4d85-a152-5c169faaebe7",
        "colab": {
          "base_uri": "https://localhost:8080/"
        }
      },
      "execution_count": 23,
      "outputs": [
        {
          "output_type": "execute_result",
          "data": {
            "text/plain": [
              "array([ 0,  1,  2,  3,  4,  5,  6,  7,  8,  9, 10, 11, 12, 13, 14, 15, 16,\n",
              "       17, 18, 19])"
            ]
          },
          "metadata": {},
          "execution_count": 23
        }
      ]
    },
    {
      "cell_type": "markdown",
      "source": [
        "Massivlar yaratishda malumot turlarini aniq kiritish, malumot turlarini aniqlash, bir turdagiikkinchi turdagi malumot turiga o'grirish"
      ],
      "metadata": {
        "id": "EuhlsLmX9EYM"
      }
    },
    {
      "cell_type": "code",
      "source": [
        "arr5 = np.array([1, 2, 3], dtype=np.float64)\n",
        "arr5"
      ],
      "metadata": {
        "id": "NSEQQyyTn8eR",
        "outputId": "2061c0f9-4e01-4cf0-cb17-ddcbf4e6cb2f",
        "colab": {
          "base_uri": "https://localhost:8080/"
        }
      },
      "execution_count": 29,
      "outputs": [
        {
          "output_type": "execute_result",
          "data": {
            "text/plain": [
              "array([1., 2., 3.])"
            ]
          },
          "metadata": {},
          "execution_count": 29
        }
      ]
    },
    {
      "cell_type": "code",
      "source": [
        "arr7 = np.array([4, 5, 6], dtype=np.int32)\n",
        "arr7"
      ],
      "metadata": {
        "id": "Sj4SIAgj9i5C",
        "outputId": "ee3289f2-fb1c-464c-ccfb-4d44a0397415",
        "colab": {
          "base_uri": "https://localhost:8080/"
        }
      },
      "execution_count": 30,
      "outputs": [
        {
          "output_type": "execute_result",
          "data": {
            "text/plain": [
              "array([4, 5, 6], dtype=int32)"
            ]
          },
          "metadata": {},
          "execution_count": 30
        }
      ]
    },
    {
      "cell_type": "code",
      "source": [
        "arr5.dtype"
      ],
      "metadata": {
        "id": "ENlo4eRl9_8z",
        "outputId": "6b6bf96a-f7a5-4e29-8c76-c4a8c07246af",
        "colab": {
          "base_uri": "https://localhost:8080/"
        }
      },
      "execution_count": 33,
      "outputs": [
        {
          "output_type": "execute_result",
          "data": {
            "text/plain": [
              "dtype('float64')"
            ]
          },
          "metadata": {},
          "execution_count": 33
        }
      ]
    },
    {
      "cell_type": "code",
      "source": [
        "arr5.size"
      ],
      "metadata": {
        "id": "CXrfS0Iz-ECX",
        "outputId": "c1ad6349-d244-409e-9f1f-9e51c56ac008",
        "colab": {
          "base_uri": "https://localhost:8080/"
        }
      },
      "execution_count": 34,
      "outputs": [
        {
          "output_type": "execute_result",
          "data": {
            "text/plain": [
              "3"
            ]
          },
          "metadata": {},
          "execution_count": 34
        }
      ]
    },
    {
      "cell_type": "code",
      "source": [
        "arr8 = np.array([1, 2, 3, 4]) #defaultda int64 qabul qiladi.\n",
        "arr8"
      ],
      "metadata": {
        "id": "JAiupppn-Q16",
        "outputId": "a07c5084-d375-403e-d9a9-a59584419443",
        "colab": {
          "base_uri": "https://localhost:8080/"
        }
      },
      "execution_count": 35,
      "outputs": [
        {
          "output_type": "execute_result",
          "data": {
            "text/plain": [
              "array([1, 2, 3, 4])"
            ]
          },
          "metadata": {},
          "execution_count": 35
        }
      ]
    },
    {
      "cell_type": "code",
      "source": [
        "arr8.dtype"
      ],
      "metadata": {
        "id": "w5Z0NHFb-3Vi",
        "outputId": "e0a0473c-293e-4d6f-bd80-8966bb44d7ff",
        "colab": {
          "base_uri": "https://localhost:8080/"
        }
      },
      "execution_count": 36,
      "outputs": [
        {
          "output_type": "execute_result",
          "data": {
            "text/plain": [
              "dtype('int64')"
            ]
          },
          "metadata": {},
          "execution_count": 36
        }
      ]
    },
    {
      "cell_type": "code",
      "source": [
        "float_arr8 = arr8.astype(np.float64)\n",
        "float_arr8"
      ],
      "metadata": {
        "id": "yCgeqykC-6hq",
        "outputId": "9471b357-ad40-46f9-e99a-dc140d1cd560",
        "colab": {
          "base_uri": "https://localhost:8080/"
        }
      },
      "execution_count": 38,
      "outputs": [
        {
          "output_type": "execute_result",
          "data": {
            "text/plain": [
              "array([1., 2., 3., 4.])"
            ]
          },
          "metadata": {},
          "execution_count": 38
        }
      ]
    },
    {
      "cell_type": "code",
      "source": [
        "float_arr8.dtype"
      ],
      "metadata": {
        "id": "T5SiytUa_NVq",
        "outputId": "aa15bef3-b825-44dd-f737-47d0417e1d35",
        "colab": {
          "base_uri": "https://localhost:8080/"
        }
      },
      "execution_count": 39,
      "outputs": [
        {
          "output_type": "execute_result",
          "data": {
            "text/plain": [
              "dtype('float64')"
            ]
          },
          "metadata": {},
          "execution_count": 39
        }
      ]
    },
    {
      "cell_type": "code",
      "source": [
        "data1 = np.array([2.4, 5, 6.7, 9])\n",
        "data1"
      ],
      "metadata": {
        "id": "N4aNdu-O_Txx",
        "outputId": "7eaf515d-05ce-4e9e-8c4c-69e184e878e3",
        "colab": {
          "base_uri": "https://localhost:8080/"
        }
      },
      "execution_count": 40,
      "outputs": [
        {
          "output_type": "execute_result",
          "data": {
            "text/plain": [
              "array([2.4, 5. , 6.7, 9. ])"
            ]
          },
          "metadata": {},
          "execution_count": 40
        }
      ]
    },
    {
      "cell_type": "code",
      "source": [
        "data1.dtype"
      ],
      "metadata": {
        "id": "heUOjSrd_y1Z",
        "outputId": "7517c803-39b9-47d3-bfcd-df7da3b208fd",
        "colab": {
          "base_uri": "https://localhost:8080/"
        }
      },
      "execution_count": 41,
      "outputs": [
        {
          "output_type": "execute_result",
          "data": {
            "text/plain": [
              "dtype('float64')"
            ]
          },
          "metadata": {},
          "execution_count": 41
        }
      ]
    },
    {
      "cell_type": "code",
      "source": [
        "data1.ndim"
      ],
      "metadata": {
        "id": "cchwUoPt_3Dy",
        "outputId": "ea1dd6dc-4736-45d6-cbb9-a621303520a6",
        "colab": {
          "base_uri": "https://localhost:8080/"
        }
      },
      "execution_count": 43,
      "outputs": [
        {
          "output_type": "execute_result",
          "data": {
            "text/plain": [
              "1"
            ]
          },
          "metadata": {},
          "execution_count": 43
        }
      ]
    },
    {
      "cell_type": "code",
      "source": [
        "data1.size"
      ],
      "metadata": {
        "id": "A5Kj57lN_5xi",
        "outputId": "b4eead39-d8cb-43a0-c08a-7c53e688f45e",
        "colab": {
          "base_uri": "https://localhost:8080/"
        }
      },
      "execution_count": 44,
      "outputs": [
        {
          "output_type": "execute_result",
          "data": {
            "text/plain": [
              "4"
            ]
          },
          "metadata": {},
          "execution_count": 44
        }
      ]
    },
    {
      "cell_type": "code",
      "source": [
        "data1.shape"
      ],
      "metadata": {
        "id": "xHkWaCdNAOcq",
        "outputId": "304a97cb-1704-4281-b597-19571bb32044",
        "colab": {
          "base_uri": "https://localhost:8080/"
        }
      },
      "execution_count": 45,
      "outputs": [
        {
          "output_type": "execute_result",
          "data": {
            "text/plain": [
              "(4,)"
            ]
          },
          "metadata": {},
          "execution_count": 45
        }
      ]
    },
    {
      "cell_type": "code",
      "source": [
        "int_data1 = data1.astype(np.int64)\n",
        "int_data1"
      ],
      "metadata": {
        "id": "3Y-kyoLJAQoS",
        "outputId": "b208792e-a5f1-423d-cde5-ad33321e72c1",
        "colab": {
          "base_uri": "https://localhost:8080/"
        }
      },
      "execution_count": 48,
      "outputs": [
        {
          "output_type": "execute_result",
          "data": {
            "text/plain": [
              "array([2, 5, 6, 9])"
            ]
          },
          "metadata": {},
          "execution_count": 48
        }
      ]
    },
    {
      "cell_type": "code",
      "source": [],
      "metadata": {
        "id": "a9N_QS3SAg2h"
      },
      "execution_count": null,
      "outputs": []
    }
  ]
}