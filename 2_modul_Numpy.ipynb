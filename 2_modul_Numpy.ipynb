{
  "nbformat": 4,
  "nbformat_minor": 0,
  "metadata": {
    "colab": {
      "provenance": [],
      "toc_visible": true,
      "authorship_tag": "ABX9TyPB77Prewxkx2kYHhyH34Tw",
      "include_colab_link": true
    },
    "kernelspec": {
      "name": "python3",
      "display_name": "Python 3"
    },
    "language_info": {
      "name": "python"
    },
    "accelerator": "GPU"
  },
  "cells": [
    {
      "cell_type": "markdown",
      "metadata": {
        "id": "view-in-github",
        "colab_type": "text"
      },
      "source": [
        "<a href=\"https://colab.research.google.com/github/asilbek-data-scientist/1_Modul/blob/main/2_modul_Numpy.ipynb\" target=\"_parent\"><img src=\"https://colab.research.google.com/assets/colab-badge.svg\" alt=\"Open In Colab\"/></a>"
      ]
    },
    {
      "cell_type": "markdown",
      "source": [
        "Numpy kutubxonasini chaqirib olish."
      ],
      "metadata": {
        "id": "YTa-NS2y-ZHX"
      }
    },
    {
      "cell_type": "code",
      "execution_count": 7,
      "metadata": {
        "id": "yVveZee_-Eh8"
      },
      "outputs": [],
      "source": [
        "import numpy as np"
      ]
    },
    {
      "cell_type": "markdown",
      "source": [
        "Python list bn Numpy kutubxoxnasidagi massivelar(arraylar) orasidagi farqni ko'ramiz."
      ],
      "metadata": {
        "id": "IOWwg3sK-gOp"
      }
    },
    {
      "cell_type": "code",
      "source": [
        "my_list = list(range(100000)) # python list 0-99999 -->normal \n",
        "my_array = np.array(range(100000)) # numpy array (massive) --> vektorlashgan"
      ],
      "metadata": {
        "id": "Kisj5xto-zsa"
      },
      "execution_count": 3,
      "outputs": []
    },
    {
      "cell_type": "code",
      "source": [
        "%time for _ in range(10): [x*2 for x in my_list] #normal"
      ],
      "metadata": {
        "colab": {
          "base_uri": "https://localhost:8080/"
        },
        "id": "P5i5m_7JJ-aV",
        "outputId": "eff97096-9564-4302-843b-4f43cfb65f88"
      },
      "execution_count": 4,
      "outputs": [
        {
          "output_type": "stream",
          "name": "stdout",
          "text": [
            "CPU times: user 61.8 ms, sys: 5.73 ms, total: 67.5 ms\n",
            "Wall time: 67.4 ms\n"
          ]
        }
      ]
    },
    {
      "cell_type": "code",
      "source": [
        "%time for _ in range(10): 2*my_array #vektorlashgan"
      ],
      "metadata": {
        "colab": {
          "base_uri": "https://localhost:8080/"
        },
        "id": "vw4IwzuvLXHs",
        "outputId": "06e6cc06-308d-4d53-9d4d-3f8607a09da0"
      },
      "execution_count": 5,
      "outputs": [
        {
          "output_type": "stream",
          "name": "stdout",
          "text": [
            "CPU times: user 1.83 ms, sys: 976 µs, total: 2.81 ms\n",
            "Wall time: 6.01 ms\n"
          ]
        }
      ]
    },
    {
      "cell_type": "markdown",
      "source": [
        "vektorlashgan usulda 20 marta tezroq ishlaydi"
      ],
      "metadata": {
        "id": "GCfTd7VNNTWx"
      }
    },
    {
      "cell_type": "code",
      "source": [
        "65.7/3.15"
      ],
      "metadata": {
        "colab": {
          "base_uri": "https://localhost:8080/"
        },
        "id": "Vgctc0qFMcBX",
        "outputId": "018eb5fd-479e-4267-ecf1-4c474d415330"
      },
      "execution_count": 6,
      "outputs": [
        {
          "output_type": "execute_result",
          "data": {
            "text/plain": [
              "20.857142857142858"
            ]
          },
          "metadata": {},
          "execution_count": 6
        }
      ]
    },
    {
      "cell_type": "markdown",
      "source": [
        "Numpyda massiv yaratishning eng oson yo'llaridan biri bu 'array' funksiyasi yordamida amalga oshiriladi. Ushbu funksiya har qanday turdagi ketma-ket ma'lumotlarni qabul qilib, uni yangi Numpy arrayiga o'girib beradi."
      ],
      "metadata": {
        "id": "CS7eqHv5g6xO"
      }
    },
    {
      "cell_type": "code",
      "source": [
        "data1 = [3.5, 5, 6, 2] #list\n",
        "arr1 = np.array(data1) #array1"
      ],
      "metadata": {
        "id": "AISYCn6VNIUs"
      },
      "execution_count": 8,
      "outputs": []
    },
    {
      "cell_type": "code",
      "source": [
        "arr1"
      ],
      "metadata": {
        "id": "yFPS_H8shvaI",
        "outputId": "0bb731f7-09d3-45ca-9952-b2529ec8cb02",
        "colab": {
          "base_uri": "https://localhost:8080/"
        }
      },
      "execution_count": 9,
      "outputs": [
        {
          "output_type": "execute_result",
          "data": {
            "text/plain": [
              "array([3.5, 5. , 6. , 2. ])"
            ]
          },
          "metadata": {},
          "execution_count": 9
        }
      ]
    },
    {
      "cell_type": "code",
      "source": [
        "data2 = (4, 6, 7.8, 18) #tuple\n",
        "arr2 = np.array(data2)\n",
        "arr2"
      ],
      "metadata": {
        "id": "JBFKoDHvhx8f",
        "outputId": "ce704b92-db4b-49d3-c256-db38418719ae",
        "colab": {
          "base_uri": "https://localhost:8080/"
        }
      },
      "execution_count": 10,
      "outputs": [
        {
          "output_type": "execute_result",
          "data": {
            "text/plain": [
              "array([ 4. ,  6. ,  7.8, 18. ])"
            ]
          },
          "metadata": {},
          "execution_count": 10
        }
      ]
    },
    {
      "cell_type": "markdown",
      "source": [
        "Massiv o'lchami"
      ],
      "metadata": {
        "id": "e5s0uukJir5s"
      }
    },
    {
      "cell_type": "code",
      "source": [
        "arr1.ndim #array1 ning massiv o'lchami"
      ],
      "metadata": {
        "id": "m6Y0fD61idUI",
        "outputId": "26cee31c-286b-4d96-bc28-4d949cd0e49c",
        "colab": {
          "base_uri": "https://localhost:8080/"
        }
      },
      "execution_count": 11,
      "outputs": [
        {
          "output_type": "execute_result",
          "data": {
            "text/plain": [
              "1"
            ]
          },
          "metadata": {},
          "execution_count": 11
        }
      ]
    },
    {
      "cell_type": "code",
      "source": [
        "arr2.ndim #array2 ning massiv o'lchami"
      ],
      "metadata": {
        "id": "5M8luEznizvQ",
        "outputId": "7546a45a-3ee2-487d-8043-a3ae53250bf4",
        "colab": {
          "base_uri": "https://localhost:8080/"
        }
      },
      "execution_count": 12,
      "outputs": [
        {
          "output_type": "execute_result",
          "data": {
            "text/plain": [
              "1"
            ]
          },
          "metadata": {},
          "execution_count": 12
        }
      ]
    },
    {
      "cell_type": "markdown",
      "source": [
        "ikki va undan katta o'lchmli massivlar"
      ],
      "metadata": {
        "id": "sQrjPhwtjmjI"
      }
    },
    {
      "cell_type": "code",
      "source": [
        "data3 = [[1, 2, 3, 4], [5,6,7,8]] #list ichidagi list (nested list)\n",
        "arr3 = np.array(data3)\n",
        "arr3"
      ],
      "metadata": {
        "id": "pvGEMesZi5kY",
        "outputId": "6cfd44dd-2eee-4831-b187-845d2fec5690",
        "colab": {
          "base_uri": "https://localhost:8080/"
        }
      },
      "execution_count": 13,
      "outputs": [
        {
          "output_type": "execute_result",
          "data": {
            "text/plain": [
              "array([[1, 2, 3, 4],\n",
              "       [5, 6, 7, 8]])"
            ]
          },
          "metadata": {},
          "execution_count": 13
        }
      ]
    },
    {
      "cell_type": "code",
      "source": [
        "arr3.ndim"
      ],
      "metadata": {
        "id": "GipY3xR2j_zf",
        "outputId": "a41cc4d7-f5fc-48fd-89f5-42e45d31d976",
        "colab": {
          "base_uri": "https://localhost:8080/"
        }
      },
      "execution_count": 14,
      "outputs": [
        {
          "output_type": "execute_result",
          "data": {
            "text/plain": [
              "2"
            ]
          },
          "metadata": {},
          "execution_count": 14
        }
      ]
    },
    {
      "cell_type": "code",
      "source": [
        "data4 = [[[1,2,3,],[4,5,6,],[7,8,9]]]\n",
        "arr4 = np.array(data4)\n",
        "arr4"
      ],
      "metadata": {
        "id": "MCind7L_jVrQ",
        "outputId": "b53e11c4-50e4-4d01-ecd2-959528687eea",
        "colab": {
          "base_uri": "https://localhost:8080/"
        }
      },
      "execution_count": 18,
      "outputs": [
        {
          "output_type": "execute_result",
          "data": {
            "text/plain": [
              "array([[[1, 2, 3],\n",
              "        [4, 5, 6],\n",
              "        [7, 8, 9]]])"
            ]
          },
          "metadata": {},
          "execution_count": 18
        }
      ]
    },
    {
      "cell_type": "code",
      "source": [
        "arr4.ndim"
      ],
      "metadata": {
        "id": "M_wDPM5LkH4I",
        "outputId": "b25fd1eb-dcda-4752-dd7b-71d1579cb82f",
        "colab": {
          "base_uri": "https://localhost:8080/"
        }
      },
      "execution_count": 19,
      "outputs": [
        {
          "output_type": "execute_result",
          "data": {
            "text/plain": [
              "3"
            ]
          },
          "metadata": {},
          "execution_count": 19
        }
      ]
    },
    {
      "cell_type": "markdown",
      "source": [
        "shape, size metodalari\n",
        "  - shape metodi massivning qatorlari sonini, size massivdagi elementlar sonini ko'rsatadi. (q, u)"
      ],
      "metadata": {
        "id": "pe-kmf4XkoNP"
      }
    },
    {
      "cell_type": "code",
      "source": [
        "arr4"
      ],
      "metadata": {
        "id": "9ALSlSiwoz4p",
        "outputId": "15989e99-47ed-4371-ea64-de9a30113944",
        "colab": {
          "base_uri": "https://localhost:8080/"
        }
      },
      "execution_count": 36,
      "outputs": [
        {
          "output_type": "execute_result",
          "data": {
            "text/plain": [
              "array([[[1, 2, 3],\n",
              "        [4, 5, 6],\n",
              "        [7, 8, 9]]])"
            ]
          },
          "metadata": {},
          "execution_count": 36
        }
      ]
    },
    {
      "cell_type": "code",
      "source": [
        "arr4.shape"
      ],
      "metadata": {
        "id": "PoHEGzxOkRAH",
        "outputId": "0598e9c8-4308-4ed1-b928-d8d5ee6737ce",
        "colab": {
          "base_uri": "https://localhost:8080/"
        }
      },
      "execution_count": 21,
      "outputs": [
        {
          "output_type": "execute_result",
          "data": {
            "text/plain": [
              "(1, 3, 3)"
            ]
          },
          "metadata": {},
          "execution_count": 21
        }
      ]
    },
    {
      "cell_type": "code",
      "source": [
        "arr3.shape # shape qaator va ustunlar sonini ko'rsatadi."
      ],
      "metadata": {
        "id": "cGsfjE_elKH5",
        "outputId": "0fe42198-b283-440a-e420-06ce12adae4f",
        "colab": {
          "base_uri": "https://localhost:8080/"
        }
      },
      "execution_count": 26,
      "outputs": [
        {
          "output_type": "execute_result",
          "data": {
            "text/plain": [
              "(2, 4)"
            ]
          },
          "metadata": {},
          "execution_count": 26
        }
      ]
    },
    {
      "cell_type": "code",
      "source": [
        "arr3"
      ],
      "metadata": {
        "id": "v5hskhPelzxS",
        "outputId": "91beed0f-0e17-4087-bd6f-0c6d4ca734d5",
        "colab": {
          "base_uri": "https://localhost:8080/"
        }
      },
      "execution_count": 25,
      "outputs": [
        {
          "output_type": "execute_result",
          "data": {
            "text/plain": [
              "array([[1, 2, 3, 4],\n",
              "       [5, 6, 7, 8]])"
            ]
          },
          "metadata": {},
          "execution_count": 25
        }
      ]
    },
    {
      "cell_type": "code",
      "source": [
        "arr3.size # size massivdagi elementlar sonini ko'rsatadi."
      ],
      "metadata": {
        "id": "-67YMJx7lVTJ",
        "outputId": "32d40b86-e6e5-49fd-e3ef-387bc8d8011c",
        "colab": {
          "base_uri": "https://localhost:8080/"
        }
      },
      "execution_count": 27,
      "outputs": [
        {
          "output_type": "execute_result",
          "data": {
            "text/plain": [
              "8"
            ]
          },
          "metadata": {},
          "execution_count": 27
        }
      ]
    },
    {
      "cell_type": "markdown",
      "source": [
        "zeros va ones massivelarini yaratish."
      ],
      "metadata": {
        "id": "d0uaXyrcml8t"
      }
    },
    {
      "cell_type": "code",
      "source": [
        "arr_zeros = np.zeros((2, 4)) # barcha elementlari nolga teng massivlar yaratadi.\n",
        "arr_zeros"
      ],
      "metadata": {
        "id": "8biRAEghlyeK",
        "outputId": "7a8e354b-f802-4aa8-d48e-2a50c2efa560",
        "colab": {
          "base_uri": "https://localhost:8080/"
        }
      },
      "execution_count": 29,
      "outputs": [
        {
          "output_type": "execute_result",
          "data": {
            "text/plain": [
              "array([[0., 0., 0., 0.],\n",
              "       [0., 0., 0., 0.]])"
            ]
          },
          "metadata": {},
          "execution_count": 29
        }
      ]
    },
    {
      "cell_type": "code",
      "source": [
        "arr_ones = np.ones((2, 3, 5))\n",
        "arr_ones"
      ],
      "metadata": {
        "id": "Ux76W5jTm30Z",
        "outputId": "a8e1141d-590c-430e-c29d-1937fac3bbb4",
        "colab": {
          "base_uri": "https://localhost:8080/"
        }
      },
      "execution_count": 30,
      "outputs": [
        {
          "output_type": "execute_result",
          "data": {
            "text/plain": [
              "array([[[1., 1., 1., 1., 1.],\n",
              "        [1., 1., 1., 1., 1.],\n",
              "        [1., 1., 1., 1., 1.]],\n",
              "\n",
              "       [[1., 1., 1., 1., 1.],\n",
              "        [1., 1., 1., 1., 1.],\n",
              "        [1., 1., 1., 1., 1.]]])"
            ]
          },
          "metadata": {},
          "execution_count": 30
        }
      ]
    },
    {
      "cell_type": "code",
      "source": [
        "arr6 = np.arange(4, 30, 2) #4 dan 30 gacha qiymatlarni 2 qadam massivga joylab beradi.\n",
        "arr6"
      ],
      "metadata": {
        "id": "_k6aQ2ZfnMLR",
        "outputId": "6b4e7337-99bf-4384-dc65-560e1eb63029",
        "colab": {
          "base_uri": "https://localhost:8080/"
        }
      },
      "execution_count": 33,
      "outputs": [
        {
          "output_type": "execute_result",
          "data": {
            "text/plain": [
              "array([ 4,  6,  8, 10, 12, 14, 16, 18, 20, 22, 24, 26, 28])"
            ]
          },
          "metadata": {},
          "execution_count": 33
        }
      ]
    },
    {
      "cell_type": "code",
      "source": [
        "arr_6 = np.arange(20) # default bo'lganda start=0 qadam=1 hisoblanadi.\n",
        "arr_6"
      ],
      "metadata": {
        "id": "0KRXwHl-n1up",
        "outputId": "f964706e-996b-481b-8da4-cbf6ae93ce7c",
        "colab": {
          "base_uri": "https://localhost:8080/"
        }
      },
      "execution_count": 35,
      "outputs": [
        {
          "output_type": "execute_result",
          "data": {
            "text/plain": [
              "array([ 0,  1,  2,  3,  4,  5,  6,  7,  8,  9, 10, 11, 12, 13, 14, 15, 16,\n",
              "       17, 18, 19])"
            ]
          },
          "metadata": {},
          "execution_count": 35
        }
      ]
    },
    {
      "cell_type": "code",
      "source": [],
      "metadata": {
        "id": "NSEQQyyTn8eR"
      },
      "execution_count": null,
      "outputs": []
    }
  ]
}